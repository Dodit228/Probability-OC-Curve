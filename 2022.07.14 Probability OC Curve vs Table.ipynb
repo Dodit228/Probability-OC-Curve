{
 "cells": [
  {
   "cell_type": "code",
   "execution_count": 13,
   "metadata": {},
   "outputs": [],
   "source": [
    "import matplotlib.pyplot as plt\n",
    "from scipy.stats import poisson\n",
    "plt.style.use('dark_background')"
   ]
  },
  {
   "cell_type": "code",
   "execution_count": 14,
   "metadata": {},
   "outputs": [],
   "source": [
    "class Poisson:\n",
    "    def __init__(self, k, lambda_):\n",
    "        self.k = k\n",
    "        self.lambda_ = lambda_\n",
    "    \n",
    "    def poisson_p_hc(self):\n",
    "        self.P_hc = self.lambda_**k * math.exp(-self.lambda_) / math.factorial(self.k)\n",
    "        return self.P_hc\n",
    "    \n",
    "    def poisson_c_hc(self):\n",
    "        self.sum_ = 0\n",
    "        for i in range(math.floor(self.k)):\n",
    "            self.sum_ += self.lambda_**i / math.factorial(i) \n",
    "        self.C_hc = math.exp(-self.lambda_)*self.sum_\n",
    "        return self.C_hc\n",
    "    \n",
    "    def poisson_p_sp(self):\n",
    "        self.P_sc = poisson.pmf(self.k, self.lambda_) # poisson.pmf(k, mu, loc)\n",
    "        return self.P_sc\n",
    "    \n",
    "    def poisson_c_sp(self):\n",
    "        self.C_sc = poisson.cdf(self.k, self.lambda_) # poisson.cdf(k, mu, loc)\n",
    "        return self.C_sc"
   ]
  },
  {
   "cell_type": "code",
   "execution_count": 15,
   "metadata": {},
   "outputs": [
    {
     "name": "stdout",
     "output_type": "stream",
     "text": [
      "n: 8\n",
      "k: 1\n",
      "P on p=0.065: 0.9037\n",
      "LOWER sample count: 25\n",
      "defect rate lower sample count on p=0.065: 1.625\n",
      "UPPER sample count: 60\n",
      "defect rate upper sample count on p=0.065: 3.9\n",
      "\n",
      "\n",
      "n: 13\n",
      "k: 2\n",
      "P on p=0.065: 0.9459\n",
      "LOWER sample count: 51\n",
      "defect rate lower sample count on p=0.065: 3.315\n",
      "UPPER sample count: 90\n",
      "defect rate upper sample count on p=0.065: 5.85\n",
      "\n",
      "\n",
      "n: 20\n",
      "k: 3\n",
      "P on p=0.065: 0.9569\n",
      "LOWER sample count: 91\n",
      "defect rate lower sample count on p=0.065: 5.915\n",
      "UPPER sample count: 150\n",
      "defect rate upper sample count on p=0.065: 9.75\n",
      "\n",
      "\n"
     ]
    },
    {
     "data": {
      "text/plain": [
       "Text(0.5, 1.0, 'poisson scipy CDF')"
      ]
     },
     "execution_count": 15,
     "metadata": {},
     "output_type": "execute_result"
    },
    {
     "data": {
      "image/png": "[encoded data removed]",
      "text/plain": [
       "<Figure size 432x288 with 1 Axes>"
      ]
     },
     "metadata": {},
     "output_type": "display_data"
    }
   ],
   "source": [
    "# ANSI/ASQ Z1.4\n",
    "# POISSON\n",
    "# n = jumlah sample dari lot\n",
    "# k = 0 # jumlah defects bisa diterima\n",
    "\n",
    "list_collection = []\n",
    "list_legend = []\n",
    "# color = iter(cm.rainbow(np.linspace(0, 1, n)))\n",
    "color_list = ['r', 'g', 'b', 'y']\n",
    "color_iter = iter(color_list)\n",
    "\n",
    "for n_k in [[8,1,[25,60]],[13,2,[51,90]],[20,3,[91,150]]]:\n",
    "    dict_result = {}\n",
    "    for p_ in range(1000):\n",
    "        p = p_/1000\n",
    "        lambda_ = n_k[0]*p\n",
    "        poisson_2_hc = Poisson(n_k[1], lambda_) # poisson.pmf(x, mu)\n",
    "        P = round(poisson_2_hc.poisson_c_sp(),4)\n",
    "        dict_result[p] = P\n",
    "\n",
    "    key_max = max(dict_result, key=dict_result.get)\n",
    "    value_max = max(dict_result.values())\n",
    "    # print('BINOMIAL')\n",
    "    print(\"n:\", n_k[0])\n",
    "    print(\"k:\", n_k[1])\n",
    "    print(\"P on p=0.065:\", round(dict_result[0.065],4))\n",
    "    print(\"LOWER sample count:\", n_k[2][0])\n",
    "    print(\"defect rate lower sample count on p=0.065:\", round(0.065*n_k[2][0],4))\n",
    "    print(\"UPPER sample count:\", n_k[2][1])\n",
    "    print(\"defect rate upper sample count on p=0.065:\", round(0.065*n_k[2][1],4))\n",
    "    print('\\n')\n",
    "    # print(\"Maximum value on\",key_max, \":\", value_max)\n",
    "    # print(\"P on p=0.03:\", round(dict_result[0.03],4))\n",
    "    # print(\"P on p=0.05:\", round(dict_result[0.05],4))\n",
    "    # print(\"P on p=0.1:\", round(dict_result[0.1],4))\n",
    "    # print(\"P on p=0.2:\", round(dict_result[0.2],4))\n",
    "    # print(\"P on p=0.3:\", round(dict_result[0.3],4))\n",
    "    # print(\"P on p=0.5:\", round(dict_result[0.5],4))\n",
    "    # print(\"P on p=0.7:\", round(dict_result[0.7],4))\n",
    "    # print(\"P on p=0.9:\", round(dict_result[0.9],4))\n",
    "    col = next(color_iter)\n",
    "    plt.plot(dict_result.keys(), dict_result.values(), color=col, label = n_k[1])\n",
    "    list_legend.append('number of samples, n={}, accept number k={}'.format(n_k[0], n_k[1]))\n",
    "\n",
    "line_x = [0.065, 0.065]\n",
    "line_y = [0.0, 1.0]\n",
    "\n",
    "plt.plot(line_x, line_y, '--', color='grey', linewidth=1)    \n",
    "plt.legend(list_legend)\n",
    "plt.ylabel('Probability of Accepting The Lot, Pa')\n",
    "plt.xlabel('Lot Defect Rate, Pd')\n",
    "plt.title('poisson scipy CDF')"
   ]
  },
  {
   "cell_type": "code",
   "execution_count": 16,
   "metadata": {},
   "outputs": [],
   "source": [
    "# def f_GI_II(lot_size):\n",
    "#     if lot_size >=2 and lot_size <=8:\n",
    "#         size_code_letter = 'A'\n",
    "#     elif lot_size >=9 and lot_size <=15:\n",
    "#         size_code_letter = 'B'\n",
    "#     elif lot_size >=16 and lot_size <=25:\n",
    "#         size_code_letter = 'C'\n",
    "#     elif lot_size >=26 and lot_size <=50:\n",
    "#         size_code_letter = 'D'\n",
    "#     elif lot_size >=51 and lot_size <=90:\n",
    "#         size_code_letter = 'E'\n",
    "#     elif lot_size >=91 and lot_size <=150:\n",
    "#         size_code_letter = 'F'\n",
    "#     elif lot_size >=151 and lot_size <=280:\n",
    "#         size_code_letter = 'G'\n",
    "#     elif lot_size >=281 and lot_size <=500:\n",
    "#         size_code_letter = 'H'\n",
    "#     elif lot_size >=501 and lot_size <=1200:\n",
    "#         size_code_letter = 'J'\n",
    "#     elif lot_size >=1_201 and lot_size <=3_200:\n",
    "#         size_code_letter = 'K'\n",
    "#     elif lot_size >=3_201 and lot_size <=10_000:\n",
    "#         size_code_letter = 'L'\n",
    "#     elif lot_size >=10_001 and lot_size <=35_000:\n",
    "#         size_code_letter = 'M'\n",
    "#     elif lot_size >=35_001 and lot_size <=150_000:\n",
    "#         size_code_letter = 'N'\n",
    "#     elif lot_size >=150_001 and lot_size <=500_000:\n",
    "#         size_code_letter = 'P'\n",
    "#     else:\n",
    "#         size_code_letter = 'Q'\n",
    "#     return size_code_letter"
   ]
  },
  {
   "cell_type": "code",
   "execution_count": 17,
   "metadata": {},
   "outputs": [],
   "source": [
    "# def f_single_sampling_plan_normal(sample_size_code):\n",
    "#     if sample_size_code == 'A':\n",
    "#         sample_size = 2\n",
    "#     elif sample_size_code == 'B':\n",
    "#         sample_size = 3\n",
    "#     elif sample_size_code == 'C':\n",
    "#         sample_size = 5\n",
    "#     elif sample_size_code == 'D':\n",
    "#         sample_size = 8\n",
    "#     elif sample_size_code == 'E':\n",
    "#         sample_size = 13\n",
    "#     elif sample_size_code == 'F':\n",
    "#         sample_size = 20\n",
    "#     elif sample_size_code == 'G':\n",
    "#         sample_size = 32\n",
    "#     elif sample_size_code == 'H':\n",
    "#         sample_size = 50\n",
    "#     elif sample_size_code == 'J':\n",
    "#         sample_size = 80\n",
    "#     elif sample_size_code == 'K':\n",
    "#         sample_size = 125\n",
    "#     elif sample_size_code == 'L':\n",
    "#         sample_size = 200\n",
    "#     elif sample_size_code == 'M':\n",
    "#         sample_size = 315\n",
    "#     elif sample_size_code == 'N':\n",
    "#         sample_size = 500\n",
    "#     elif sample_size_code == 'P':\n",
    "#         sample_size = 800\n",
    "#     elif sample_size_code == 'Q':\n",
    "#         sample_size = 1_250\n",
    "#     elif sample_size_code == 'R':\n",
    "#         sample_size = 2_000\n",
    "#     return sample_size\n",
    "    "
   ]
  },
  {
   "cell_type": "code",
   "execution_count": 18,
   "metadata": {},
   "outputs": [],
   "source": [
    "# lot_size = 50\n",
    "# sample_size_code = f_GI_II(lot_size)\n",
    "# print(sample_size_code)\n",
    "# sample_size = f_single_sampling_plan_normal(sample_size_code)\n",
    "# print(sample_size)"
   ]
  }
 ],
 "metadata": {
  "kernelspec": {
   "display_name": "Python 3.10.4 64-bit",
   "language": "python",
   "name": "python3"
  },
  "language_info": {
   "codemirror_mode": {
    "name": "ipython",
    "version": 3
   },
   "file_extension": ".py",
   "mimetype": "text/x-python",
   "name": "python",
   "nbconvert_exporter": "python",
   "pygments_lexer": "ipython3",
   "version": "3.10.4"
  },
  "orig_nbformat": 4,
  "vscode": {
   "interpreter": {
    "hash": "de93ffed9bd24b7d9f645a83e8d3156599714ee4bf33b5548e4972a381fe44e5"
   }
  }
 },
 "nbformat": 4,
 "nbformat_minor": 2
}
