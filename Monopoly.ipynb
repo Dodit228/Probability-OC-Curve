{
 "cells": [
  {
   "cell_type": "code",
   "execution_count": 16,
   "metadata": {},
   "outputs": [],
   "source": [
    "import random\n",
    "import collections"
   ]
  },
  {
   "cell_type": "code",
   "execution_count": 17,
   "metadata": {},
   "outputs": [],
   "source": [
    "dict_board = {0:'GO', 1:'A1', 2:'chances', 3:'A2', 4:'pin', 5:'B1', 6:'trade', 7:'B2',\n",
    "              8:'jail', 9:'C1', 10:'chances', 11:'C2', 12:'pin', 13:'D1', 14:'trade', 15:'D2',\n",
    "              16:'parking', 17:'E1', 18:'chances', 19:'E2', 20:'pin', 21:'F1', 22:'trade', 23:'F2',\n",
    "              24:'to jail', 25:'G1', 26:'chances', 27:'G2', 28:'pin', 29:'H1', 30:'trade', 31:'H2'}"
   ]
  },
  {
   "cell_type": "code",
   "execution_count": 18,
   "metadata": {},
   "outputs": [],
   "source": [
    "die_list = [1, 2, 3, 4, 5, 6]\n",
    "\n",
    "player_position = 0\n",
    "list_player_position = []\n",
    "\n",
    "for i in range(1000):\n",
    "    list_player_position.append(player_position)\n",
    "    die_roll = random.choice(die_list)\n",
    "    player_position += die_roll\n",
    "    player_position = player_position%32\n",
    "    # print('roll    :', die_roll)\n",
    "    # print('position:', player_position)\n",
    "    if player_position == 24:\n",
    "        player_position = 8\n",
    "        # print('position:', player_position)\n",
    "        # print('--------------JAIL')\n",
    "    \n",
    "\n",
    "# print(list_player_position)\n",
    "\n",
    "list_player_position.sort\n",
    "\n",
    "# counter list\n",
    "frequency = collections.Counter(list_player_position)\n",
    "\n",
    "# printing the frequency\n",
    "# print(dict(frequency))"
   ]
  },
  {
   "cell_type": "code",
   "execution_count": 19,
   "metadata": {},
   "outputs": [
    {
     "name": "stdout",
     "output_type": "stream",
     "text": [
      "430\n"
     ]
    }
   ],
   "source": [
    "list_less_than_8 = list(filter(lambda post: post<8, list_player_position))\n",
    "# print(list_less_than_8)\n",
    "# print(len(list_less_than_8))\n",
    "\n",
    "list_greater_than_24 = list(filter(lambda post: post>24, list_player_position))\n",
    "# print(list_greater_than_24)\n",
    "# print(len(list_greater_than_24))\n",
    "\n",
    "print(len(list_less_than_8) + len(list_greater_than_24))"
   ]
  },
  {
   "cell_type": "code",
   "execution_count": 20,
   "metadata": {},
   "outputs": [
    {
     "name": "stdout",
     "output_type": "stream",
     "text": [
      "523\n"
     ]
    }
   ],
   "source": [
    "list_less_between_8_24 = list(filter(lambda post: post>8 and post <24, list_player_position))\n",
    "# print(list_less_between_8_24)\n",
    "print(len(list_less_between_8_24))"
   ]
  }
 ],
 "metadata": {
  "kernelspec": {
   "display_name": "Python 3.10.4 64-bit",
   "language": "python",
   "name": "python3"
  },
  "language_info": {
   "codemirror_mode": {
    "name": "ipython",
    "version": 3
   },
   "file_extension": ".py",
   "mimetype": "text/x-python",
   "name": "python",
   "nbconvert_exporter": "python",
   "pygments_lexer": "ipython3",
   "version": "3.10.4"
  },
  "orig_nbformat": 4,
  "vscode": {
   "interpreter": {
    "hash": "de93ffed9bd24b7d9f645a83e8d3156599714ee4bf33b5548e4972a381fe44e5"
   }
  }
 },
 "nbformat": 4,
 "nbformat_minor": 2
}
