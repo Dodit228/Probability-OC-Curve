{
 "cells": [
  {
   "cell_type": "code",
   "execution_count": 1,
   "metadata": {},
   "outputs": [],
   "source": [
    "import random\n",
    "import handcalcs.render\n",
    "import math\n",
    "import matplotlib.pyplot as plt\n",
    "from scipy.stats import poisson\n",
    "from scipy.stats import binom\n",
    "\n",
    "plt.style.use('dark_background')"
   ]
  },
  {
   "cell_type": "markdown",
   "metadata": {},
   "source": [
    "# Binomial Distribution"
   ]
  },
  {
   "cell_type": "code",
   "execution_count": 2,
   "metadata": {},
   "outputs": [
    {
     "name": "stdout",
     "output_type": "stream",
     "text": [
      "Pr 0 = 0.0625\n",
      "Pr 1 = 0.25\n",
      "Pr 2 = 0.375\n",
      "Pr 3 = 0.25\n",
      "Pr 4 = 0.0625\n",
      "Maximum value on 2 : 0.375\n"
     ]
    },
    {
     "data": {
      "text/plain": [
       "<BarContainer object of 5 artists>"
      ]
     },
     "execution_count": 2,
     "metadata": {},
     "output_type": "execute_result"
    },
    {
     "data": {
      "image/png": "[encoded data removed]",
      "text/plain": [
       "<Figure size 432x288 with 1 Axes>"
      ]
     },
     "metadata": {
      "needs_background": "dark"
     },
     "output_type": "display_data"
    }
   ],
   "source": [
    "# deterministic binomial PMF\n",
    "# https://en.wikipedia.org/wiki/Binomial_distribution\n",
    "\n",
    "n = 4\n",
    "p = 0.5\n",
    "dict_result = {}\n",
    "for k in range(n+1):\n",
    "    Pr = (math.factorial(n)/\n",
    "        (math.factorial(k)*math.factorial(n-k)))*\\\n",
    "        p**(k) * (1-p)**(n-k)\n",
    "    dict_result[k] = Pr\n",
    "\n",
    "    print('Pr',k ,'=', round(Pr,4))\n",
    "\n",
    "key_max = max(dict_result, key=dict_result.get)\n",
    "value_max = max(dict_result.values())\n",
    "print(\"Maximum value on\",key_max, \":\", value_max)\n",
    "\n",
    "plt.bar(dict_result.keys(), dict_result.values(), width=.5, color='g')\n"
   ]
  },
  {
   "cell_type": "markdown",
   "metadata": {},
   "source": [
    "#### peluang dapat head pada 1 kesempatan satu koin fair"
   ]
  },
  {
   "cell_type": "code",
   "execution_count": 3,
   "metadata": {},
   "outputs": [
    {
     "name": "stdout",
     "output_type": "stream",
     "text": [
      "Pr = 0.5\n"
     ]
    }
   ],
   "source": [
    "# deterministic binomial PMF\n",
    "# https://en.wikipedia.org/wiki/Binomial_distribution\n",
    "\n",
    "n = 2\n",
    "k = 1\n",
    "p = 0.5\n",
    "\n",
    "Pr = (math.factorial(n)/\n",
    "    (math.factorial(k)*math.factorial(n-k)))*\\\n",
    "    p**(k) * (1-p)**(n-k)\n",
    "\n",
    "print('Pr =', round(Pr,4))"
   ]
  },
  {
   "cell_type": "code",
   "execution_count": 4,
   "metadata": {},
   "outputs": [
    {
     "name": "stdout",
     "output_type": "stream",
     "text": [
      "{0: 0.50191, 1: 0.49809}\n",
      "Maximum value on 0 : 0.50191\n",
      "Pr on 1: 0.49809\n"
     ]
    },
    {
     "data": {
      "text/plain": [
       "<BarContainer object of 2 artists>"
      ]
     },
     "execution_count": 4,
     "metadata": {},
     "output_type": "execute_result"
    },
    {
     "data": {
      "image/png": "[encoded data removed]",
      "text/plain": [
       "<Figure size 432x288 with 1 Axes>"
      ]
     },
     "metadata": {
      "needs_background": "dark"
     },
     "output_type": "display_data"
    }
   ],
   "source": [
    "# stochastic\n",
    "\n",
    "list_coin = ['head', 'tail']\n",
    "\n",
    "list_result_head = []\n",
    "iteration_count = 100_000\n",
    "trials = 1\n",
    "\n",
    "for i in range(iteration_count):\n",
    "    count_trials = trials\n",
    "    list_result = []\n",
    "    counter_head = 0\n",
    "    counter_tail = 0\n",
    "    for i in range(count_trials):\n",
    "        event = random.choice(list_coin)\n",
    "        if event == 'head':\n",
    "            counter_head += 1\n",
    "    counter_tail = count_trials - counter_head\n",
    "    list_result_head.append(counter_head)\n",
    "    # print(counter_head)\n",
    "    # print(counter_tail)\n",
    "\n",
    "# print(list_result_head)\n",
    "set_result_head = {i for i in range(trials+1)}\n",
    "dict_result_head = {}\n",
    "for i in set_result_head:\n",
    "    dict_result_head[i] = list_result_head.count(i)/iteration_count\n",
    "print(dict_result_head)\n",
    "\n",
    "key_max = max(dict_result_head, key=dict_result_head.get)\n",
    "value_max = max(dict_result_head.values())\n",
    "print(\"Maximum value on\",key_max, \":\", value_max)\n",
    "print(\"Pr on 1:\", dict_result_head[1])\n",
    "\n",
    "plt.bar(dict_result_head.keys(), dict_result_head.values(), width=.1, color='g')"
   ]
  },
  {
   "cell_type": "markdown",
   "metadata": {},
   "source": [
    "#### peluang dapat tepat 2 head pada 6 kesempatan toss koin fair"
   ]
  },
  {
   "cell_type": "code",
   "execution_count": 5,
   "metadata": {},
   "outputs": [
    {
     "name": "stdout",
     "output_type": "stream",
     "text": [
      "Pr = 0.2344\n"
     ]
    }
   ],
   "source": [
    "# deterministic binomial PMF\n",
    "# https://en.wikipedia.org/wiki/Binomial_distribution\n",
    "\n",
    "n = 6\n",
    "k = 2\n",
    "p = 0.5\n",
    "\n",
    "Pr = (math.factorial(n)/\n",
    "    (math.factorial(k)*math.factorial(n-k)))*\\\n",
    "    p**(k) * (1-p)**(n-k)\n",
    "\n",
    "print('Pr =', round(Pr,4))"
   ]
  },
  {
   "cell_type": "code",
   "execution_count": 6,
   "metadata": {},
   "outputs": [
    {
     "name": "stdout",
     "output_type": "stream",
     "text": [
      "{0: 0.01527, 1: 0.0951, 2: 0.23287, 3: 0.31163, 4: 0.23573, 5: 0.09387, 6: 0.01553}\n",
      "Maximum value on 3 : 0.31163\n",
      "Pr on 2: 0.23287\n"
     ]
    },
    {
     "data": {
      "text/plain": [
       "<BarContainer object of 7 artists>"
      ]
     },
     "execution_count": 6,
     "metadata": {},
     "output_type": "execute_result"
    },
    {
     "data": {
      "image/png": "[encoded data removed]",
      "text/plain": [
       "<Figure size 432x288 with 1 Axes>"
      ]
     },
     "metadata": {
      "needs_background": "dark"
     },
     "output_type": "display_data"
    }
   ],
   "source": [
    "# stochastic\n",
    "\n",
    "list_coin = ['head', 'tail']\n",
    "\n",
    "list_result_head = []\n",
    "iteration_count = 100_000\n",
    "trials = 6\n",
    "\n",
    "for i in range(iteration_count):\n",
    "    count_trials = trials\n",
    "    list_result = []\n",
    "    counter_head = 0\n",
    "    counter_tail = 0\n",
    "    for i in range(count_trials):\n",
    "        event = random.choice(list_coin)\n",
    "        if event == 'head':\n",
    "            counter_head += 1\n",
    "    counter_tail = count_trials - counter_head\n",
    "    list_result_head.append(counter_head)\n",
    "    # print(counter_head)\n",
    "    # print(counter_tail)\n",
    "\n",
    "# print(list_result_head)\n",
    "set_result_head = {i for i in range(trials+1)}\n",
    "dict_result_head = {}\n",
    "for i in set_result_head:\n",
    "    dict_result_head[i] = list_result_head.count(i)/iteration_count\n",
    "print(dict_result_head)\n",
    "\n",
    "key_max = max(dict_result_head, key=dict_result_head.get)\n",
    "value_max = max(dict_result_head.values())\n",
    "print(\"Maximum value on\",key_max, \":\", value_max)\n",
    "print(\"Pr on 2:\", dict_result_head[2])\n",
    "\n",
    "plt.bar(dict_result_head.keys(), dict_result_head.values(), width=.75, color='g')"
   ]
  },
  {
   "cell_type": "markdown",
   "metadata": {},
   "source": [
    "#### peluang dapat tepat 1 six pada 1 kesempatan roll dadu fair\n",
    "1/6 = 0.1667"
   ]
  },
  {
   "cell_type": "code",
   "execution_count": 7,
   "metadata": {},
   "outputs": [
    {
     "name": "stdout",
     "output_type": "stream",
     "text": [
      "Pr = 0.1667\n"
     ]
    }
   ],
   "source": [
    "# deterministic binomial PMF\n",
    "# https://en.wikipedia.org/wiki/Binomial_distribution\n",
    "\n",
    "n = 1\n",
    "k = 1\n",
    "p = 1/6\n",
    "\n",
    "Pr = (math.factorial(n)/\n",
    "    (math.factorial(k)*math.factorial(n-k)))*\\\n",
    "    p**(k) * (1-p)**(n-k)\n",
    "\n",
    "print('Pr =', round(Pr,4))"
   ]
  },
  {
   "cell_type": "code",
   "execution_count": 8,
   "metadata": {},
   "outputs": [
    {
     "name": "stdout",
     "output_type": "stream",
     "text": [
      "{0: 0.83422, 1: 0.16578}\n",
      "Maximum value on 0 : 0.83422\n",
      "Pr on 1 six on 1 roll: 0.16578\n"
     ]
    },
    {
     "data": {
      "text/plain": [
       "<BarContainer object of 2 artists>"
      ]
     },
     "execution_count": 8,
     "metadata": {},
     "output_type": "execute_result"
    },
    {
     "data": {
      "image/png": "[encoded data removed]",
      "text/plain": [
       "<Figure size 432x288 with 1 Axes>"
      ]
     },
     "metadata": {
      "needs_background": "dark"
     },
     "output_type": "display_data"
    }
   ],
   "source": [
    "# stochastic\n",
    "\n",
    "list_die = ['one', 'two', 'three', 'four', 'five', 'six']\n",
    "\n",
    "list_result_six = []\n",
    "iteration_count = 100_000\n",
    "trials = 1\n",
    "\n",
    "for i in range(iteration_count):\n",
    "    count_trials = trials\n",
    "    list_result = []\n",
    "    counter_six = 0\n",
    "    for i in range(count_trials):\n",
    "        event = random.choice(list_die)\n",
    "        if event == 'six':\n",
    "            counter_six += 1\n",
    "    counter_non_six = count_trials - counter_six\n",
    "    list_result_six.append(counter_six)\n",
    "    # print(counter_head)\n",
    "    # print(counter_tail)\n",
    "\n",
    "# print(list_result_head)\n",
    "set_result_six = {i for i in range(trials+1)}\n",
    "dict_result_six = {}\n",
    "for i in set_result_six:\n",
    "    dict_result_six[i] = list_result_six.count(i)/iteration_count\n",
    "print(dict_result_six)\n",
    "\n",
    "key_max = max(dict_result_six, key=dict_result_six.get)\n",
    "value_max = max(dict_result_six.values())\n",
    "print(\"Maximum value on\",key_max, \":\", value_max)\n",
    "print(\"Pr on 1 six on 1 roll:\", dict_result_six[1])\n",
    "\n",
    "plt.bar(dict_result_six.keys(), dict_result_six.values(), width=0.1, color='g')"
   ]
  },
  {
   "cell_type": "code",
   "execution_count": 9,
   "metadata": {},
   "outputs": [],
   "source": [
    "# list_dice = ['one', 'two', 'three', 'four', 'five', 'six']\n",
    "\n",
    "# six_success_0 = 0\n",
    "# six_success_1 = 0\n",
    "# six_success_2 = 0\n",
    "# six_success_3 = 0\n",
    "# six_success_4 = 0\n",
    "# six_success_5 = 0\n",
    "# six_success_6 = 0\n",
    "# trials_dice = 100_000\n",
    "\n",
    "# for i in range(trials_dice):\n",
    "#     six_result = 0\n",
    "#     not_six_result = 0\n",
    "#     for i in range(1):\n",
    "#         event = random.choice(list_dice)\n",
    "#         if event == 'six':\n",
    "#             six_result += 1\n",
    "#         else:\n",
    "#             not_six_result +=1\n",
    "\n",
    "#     if six_result == 0:\n",
    "#         six_success_0 += 1\n",
    "#     elif six_result == 1:\n",
    "#         six_success_1 += 1\n",
    "#     elif six_result == 2:\n",
    "#         six_success_2 += 1\n",
    "#     elif six_result == 3:\n",
    "#         six_success_3 += 1\n",
    "#     elif six_result == 4:\n",
    "#         six_success_4 += 1\n",
    "#     elif six_result == 5:\n",
    "#         six_success_5 += 1\n",
    "#     elif six_result == 6:\n",
    "#         six_success_6 += 1\n",
    "\n",
    "# print('probability six_success_0:', round(six_success_0/trials_dice,4))\n",
    "# print('probability six_success_1:', round(six_success_1/trials_dice,4))\n",
    "# print('probability six_success_2:', round(six_success_2/trials_dice,4))\n",
    "# print('probability six_success_3:', round(six_success_3/trials_dice,4))\n",
    "# print('probability six_success_4:', round(six_success_4/trials_dice,4))\n",
    "# print('probability six_success_5:', round(six_success_5/trials_dice,4))\n",
    "# print('probability six_success_6:', round(six_success_6/trials_dice,4))"
   ]
  },
  {
   "cell_type": "markdown",
   "metadata": {},
   "source": [
    "#### peluang dapat tepat variasi jumlah six pada 3 kesempatan roll dadu fair"
   ]
  },
  {
   "cell_type": "code",
   "execution_count": 10,
   "metadata": {},
   "outputs": [
    {
     "name": "stdout",
     "output_type": "stream",
     "text": [
      "Pr 0 = 0.5787\n",
      "Pr 1 = 0.3472\n",
      "Pr 2 = 0.0694\n",
      "Pr 3 = 0.0046\n"
     ]
    }
   ],
   "source": [
    "# deterministic binomial PMF\n",
    "# https://en.wikipedia.org/wiki/Binomial_distribution\n",
    "\n",
    "n = 3\n",
    "p = 1/6\n",
    "for k in range(n+1):\n",
    "    Pr = (math.factorial(n)/\n",
    "        (math.factorial(k)*math.factorial(n-k)))*\\\n",
    "        p**(k) * (1-p)**(n-k)\n",
    "\n",
    "    print('Pr',k ,'=', round(Pr,4))"
   ]
  },
  {
   "cell_type": "code",
   "execution_count": 11,
   "metadata": {},
   "outputs": [
    {
     "name": "stdout",
     "output_type": "stream",
     "text": [
      "{0: 0.57812, 1: 0.34608, 2: 0.07102, 3: 0.00478}\n",
      "Maximum value on 0 : 0.57812\n",
      "Pr on 2 six on 3 roll: 0.07102\n"
     ]
    },
    {
     "data": {
      "text/plain": [
       "<BarContainer object of 4 artists>"
      ]
     },
     "execution_count": 11,
     "metadata": {},
     "output_type": "execute_result"
    },
    {
     "data": {
      "image/png": "[encoded data removed]",
      "text/plain": [
       "<Figure size 432x288 with 1 Axes>"
      ]
     },
     "metadata": {
      "needs_background": "dark"
     },
     "output_type": "display_data"
    }
   ],
   "source": [
    "# stochastic\n",
    "\n",
    "list_die = ['one', 'two', 'three', 'four', 'five', 'six']\n",
    "\n",
    "list_result_six = []\n",
    "iteration_count = 100_000\n",
    "trials = 3\n",
    "\n",
    "for i in range(iteration_count):\n",
    "    count_trials = trials\n",
    "    list_result = []\n",
    "    counter_six = 0\n",
    "    for i in range(count_trials):\n",
    "        event = random.choice(list_die)\n",
    "        if event == 'six':\n",
    "            counter_six += 1\n",
    "    counter_non_six = count_trials - counter_six\n",
    "    list_result_six.append(counter_six)\n",
    "    # print(counter_head)\n",
    "    # print(counter_tail)\n",
    "\n",
    "# print(list_result_head)\n",
    "set_result_six = {i for i in range(trials+1)}\n",
    "dict_result_six = {}\n",
    "for i in set_result_six:\n",
    "    dict_result_six[i] = list_result_six.count(i)/iteration_count\n",
    "print(dict_result_six)\n",
    "\n",
    "key_max = max(dict_result_six, key=dict_result_six.get)\n",
    "value_max = max(dict_result_six.values())\n",
    "print(\"Maximum value on\",key_max, \":\", value_max)\n",
    "print(\"Pr on 2 six on 3 roll:\", dict_result_six[2])\n",
    "\n",
    "plt.bar(dict_result_six.keys(), dict_result_six.values(), width=0.5, color='g')"
   ]
  },
  {
   "cell_type": "code",
   "execution_count": 12,
   "metadata": {},
   "outputs": [
    {
     "data": {
      "text/latex": [
       "\\[\n",
       "\\begin{aligned}\n",
       "n &= 3 \\; \\;\\textrm{(rolling dice n times)}\n",
       "\\\\[10pt]\n",
       "r &= 2 \\; \\;\\textrm{(number of success within n, e.g.: 2 sixes)}\n",
       "\\\\[10pt]\n",
       "p &= \\frac{ 1 }{ 6 } &= 1.667 \\times 10 ^ {-1 } \\; \\;\\textrm{(probability of a success, untuk dice rolling a six = 1/6)}\n",
       "\\\\[10pt]\n",
       "c &= \\frac{ \\mathrm{math.factorial} { n } }{ \\mathrm{math.factorial} { r } \\cdot \\mathrm{math.factorial} { \\left( n - r \\right) } }  = \\frac{ math.factorial { 3 } }{ math.factorial { 2 } \\cdot math.factorial { \\left( 3 - 2 \\right) } } &= 3.0 \\; \\;\\textrm{(n! / (n! * (n-k)!))}\n",
       "\\\\[10pt]\n",
       "P &= c \\cdot \\left( p \\right) ^{ r } \\cdot \\left( 1 - p \\right) ^{ \\left( n - r \\right) } \\\\&= 3.0 \\cdot \\left( 1.667 \\times 10 ^ {-1 } \\right) ^{ 2 } \\cdot \\left( 1 - 1.667 \\times 10 ^ {-1 } \\right) ^{ \\left( 3 - 2 \\right) } \\\\&= 6.944 \\times 10 ^ {-2 }  \\\\\n",
       "\\end{aligned}\n",
       "\\]"
      ],
      "text/plain": [
       "<IPython.core.display.Latex object>"
      ]
     },
     "metadata": {},
     "output_type": "display_data"
    }
   ],
   "source": [
    "%%render\n",
    "n = 3 # rolling dice n times\n",
    "r = 2 # number of success within n, e.g.: 2 sixes\n",
    "p = 1/6 # probability of a success, untuk dice rolling a six = 1/6\n",
    "c = math.factorial(n)/(math.factorial(r)*math.factorial(n-r)) # n! / (n! * (n-k)!)\n",
    "P = c * p**r * (1-p)**(n-r)"
   ]
  },
  {
   "cell_type": "markdown",
   "metadata": {},
   "source": [
    "#### Binomial count_sample = 50, success_rate = 0.95"
   ]
  },
  {
   "cell_type": "code",
   "execution_count": 13,
   "metadata": {},
   "outputs": [
    {
     "name": "stdout",
     "output_type": "stream",
     "text": [
      "Maximum value on 48 : 0.2611013703988193\n"
     ]
    },
    {
     "data": {
      "text/plain": [
       "<BarContainer object of 51 artists>"
      ]
     },
     "execution_count": 13,
     "metadata": {},
     "output_type": "execute_result"
    },
    {
     "data": {
      "image/png": "[encoded data removed]",
      "text/plain": [
       "<Figure size 432x288 with 1 Axes>"
      ]
     },
     "metadata": {
      "needs_background": "dark"
     },
     "output_type": "display_data"
    }
   ],
   "source": [
    "# deterministic binomial PMF\n",
    "# https://en.wikipedia.org/wiki/Binomial_distribution\n",
    "\n",
    "n = 50\n",
    "p = 0.95\n",
    "dict_result = {}\n",
    "\n",
    "for k in range(n+1):\n",
    "    Pr = (math.factorial(n)/\n",
    "        (math.factorial(k)*math.factorial(n-k)))*\\\n",
    "        p**(k) * (1-p)**(n-k)\n",
    "    dict_result[k] = Pr\n",
    "\n",
    "    # print('Pr', k,'=', round(Pr,4))\n",
    "\n",
    "key_max = max(dict_result, key=dict_result.get)\n",
    "value_max = max(dict_result.values())\n",
    "print(\"Maximum value on\",key_max, \":\", value_max)\n",
    "\n",
    "plt.bar(dict_result.keys(), dict_result.values(), width=.5, color='g')\n"
   ]
  },
  {
   "cell_type": "code",
   "execution_count": 14,
   "metadata": {},
   "outputs": [
    {
     "name": "stdout",
     "output_type": "stream",
     "text": [
      "Maximum value on 48 : 0.26129\n"
     ]
    },
    {
     "data": {
      "text/plain": [
       "<BarContainer object of 51 artists>"
      ]
     },
     "execution_count": 14,
     "metadata": {},
     "output_type": "execute_result"
    },
    {
     "data": {
      "image/png": "[encoded data removed]",
      "text/plain": [
       "<Figure size 432x288 with 1 Axes>"
      ]
     },
     "metadata": {
      "needs_background": "dark"
     },
     "output_type": "display_data"
    }
   ],
   "source": [
    "# stochastic\n",
    "# https://www.youtube.com/watch?v=8idr1WZ1A7Q\n",
    "\n",
    "success_rate = 0.95\n",
    "\n",
    "list_result_ok = []\n",
    "iteration_count = 100_000\n",
    "\n",
    "\n",
    "for i in range(iteration_count):\n",
    "    count_sample = 50\n",
    "    list_review = []\n",
    "    counter_ok = 0\n",
    "    counter_nok = 0\n",
    "    for i in range(count_sample):\n",
    "        review = random.random()\n",
    "        if review > success_rate:\n",
    "            counter_nok += 1\n",
    "    counter_ok = count_sample - counter_nok\n",
    "    list_result_ok.append(counter_ok)\n",
    "    # print(counter_ok)\n",
    "    # print(counter_nok)\n",
    "\n",
    "# print(list_result_ok)\n",
    "# set_result_ok = set(list_result_ok)\n",
    "set_result_ok = {i for i in range(count_sample+1)}\n",
    "dict_result_ok = {}\n",
    "for i in set_result_ok:\n",
    "    dict_result_ok[i] = list_result_ok.count(i)/iteration_count\n",
    "# print(dict_result_ok)\n",
    "\n",
    "key_max = max(dict_result_ok, key=dict_result_ok.get)\n",
    "value_max = max(dict_result_ok.values())\n",
    "print(\"Maximum value on\",key_max, \":\", value_max)\n",
    "\n",
    "plt.bar(dict_result_ok.keys(), dict_result_ok.values(), width=.75, color='g')\n"
   ]
  },
  {
   "cell_type": "markdown",
   "metadata": {},
   "source": [
    "#### Binomial count_sample = 50, success_rate = 0.5"
   ]
  },
  {
   "cell_type": "code",
   "execution_count": 15,
   "metadata": {},
   "outputs": [
    {
     "name": "stdout",
     "output_type": "stream",
     "text": [
      "Maximum value on 25 : 0.11391\n"
     ]
    },
    {
     "data": {
      "text/plain": [
       "<BarContainer object of 51 artists>"
      ]
     },
     "execution_count": 15,
     "metadata": {},
     "output_type": "execute_result"
    },
    {
     "data": {
      "image/png": "[encoded data removed]",
      "text/plain": [
       "<Figure size 432x288 with 1 Axes>"
      ]
     },
     "metadata": {
      "needs_background": "dark"
     },
     "output_type": "display_data"
    }
   ],
   "source": [
    "# stochastic\n",
    "# https://www.youtube.com/watch?v=8idr1WZ1A7Q\n",
    "\n",
    "success_rate = 0.5\n",
    "\n",
    "list_result_ok = []\n",
    "iteration_count = 100_000\n",
    "\n",
    "for i in range(iteration_count):\n",
    "    count_sample = 50\n",
    "    list_review = []\n",
    "    counter_ok = 0\n",
    "    counter_nok = 0\n",
    "    for i in range(count_sample):\n",
    "        review = random.random()\n",
    "        if review > success_rate:\n",
    "            counter_nok += 1\n",
    "    counter_ok = count_sample - counter_nok\n",
    "    list_result_ok.append(counter_ok)\n",
    "    # print(counter_ok)\n",
    "    # print(counter_nok)\n",
    "\n",
    "# print(list_result_ok)\n",
    "# set_result_ok = set(list_result_ok)\n",
    "set_result_ok = {i for i in range(count_sample+1)}\n",
    "dict_result_ok = {}\n",
    "for i in set_result_ok:\n",
    "    dict_result_ok[i] = list_result_ok.count(i)/iteration_count\n",
    "# print(dict_result_ok)\n",
    "\n",
    "key_max = max(dict_result_ok, key=dict_result_ok.get)\n",
    "value_max = max(dict_result_ok.values())\n",
    "print(\"Maximum value on\",key_max, \":\", value_max)\n",
    "\n",
    "plt.bar(dict_result_ok.keys(), dict_result_ok.values(), width=.75, color='g')\n"
   ]
  },
  {
   "cell_type": "markdown",
   "metadata": {},
   "source": [
    "## Binomial PMF\n",
    "### sample n= 30, c = 3, p = 1%"
   ]
  },
  {
   "cell_type": "code",
   "execution_count": 16,
   "metadata": {},
   "outputs": [
    {
     "name": "stdout",
     "output_type": "stream",
     "text": [
      "Maximum value on 0.1 : 0.23608793223234287\n"
     ]
    },
    {
     "data": {
      "text/plain": [
       "<BarContainer object of 100 artists>"
      ]
     },
     "execution_count": 16,
     "metadata": {},
     "output_type": "execute_result"
    },
    {
     "data": {
      "image/png": "[encoded data removed]",
      "text/plain": [
       "<Figure size 432x288 with 1 Axes>"
      ]
     },
     "metadata": {
      "needs_background": "dark"
     },
     "output_type": "display_data"
    }
   ],
   "source": [
    "# deterministic\n",
    "\n",
    "n = 30\n",
    "k = 3\n",
    "range_ = 100\n",
    "dict_result = {}\n",
    "for p_ in range(range_):\n",
    "    p = p_/100\n",
    "    Pr = (math.factorial(n)/\n",
    "        (math.factorial(k)*math.factorial(n-k)))*\\\n",
    "        p**(k) * (1-p)**(n-k)\n",
    "    # print('Pr',p ,'=', round(Pr,4))\n",
    "    dict_result[p] = Pr\n",
    "\n",
    "key_max = max(dict_result, key=dict_result.get)\n",
    "value_max = max(dict_result.values())\n",
    "print(\"Maximum value on\",key_max, \":\", value_max)\n",
    "\n",
    "plt.bar(dict_result.keys(), dict_result.values(), width=0.01, color='g')\n"
   ]
  },
  {
   "cell_type": "markdown",
   "metadata": {},
   "source": [
    "# OC Curve with Binomial Method\n",
    "https://accendoreliability.com/oc-curve-with-binomial-method/\n",
    "\n",
    "Let’s say we have lot’s of 500 units and we’re are considering using the ANSI/ASQ Z1.4 – 2008 Sampling Procedures and Tables for Inspection by Attributes S-3 inspection level and single sampling plan. It directs us to select 8 samples from each lot. The acceptance is with no defects in the sample, c=0 and reject the lot is there is one defect in the sample."
   ]
  },
  {
   "cell_type": "code",
   "execution_count": 17,
   "metadata": {},
   "outputs": [
    {
     "name": "stdout",
     "output_type": "stream",
     "text": [
      "BINOMIAL\n",
      "n: 8\n",
      "c: 0\n",
      "Maximum value on 0.0 : 1.0\n",
      "P on p=0.03: 0.7837\n",
      "P on p=0.05: 0.6634\n",
      "P on p=0.1: 0.4305\n",
      "P on p=0.3: 0.0576\n",
      "P on p=0.5: 0.0039\n",
      "P on p=0.7: 0.0001\n",
      "P on p=0.9: 0.0\n"
     ]
    },
    {
     "data": {
      "text/plain": [
       "Text(0.5, 1.0, 'binom PMF c=0, n=8')"
      ]
     },
     "execution_count": 17,
     "metadata": {},
     "output_type": "execute_result"
    },
    {
     "data": {
      "image/png": "[encoded data removed]",
      "text/plain": [
       "<Figure size 432x288 with 1 Axes>"
      ]
     },
     "metadata": {
      "needs_background": "dark"
     },
     "output_type": "display_data"
    }
   ],
   "source": [
    "k = d = c = 0 \n",
    "# k,d: jumlah defects; c: jumlah defects bisa diterima\n",
    "# 0<=d<=c, karena c = 0, maka d = 0\n",
    "#  \n",
    "n = 8 # jumlah sample dari lot\n",
    "dict_result = {}\n",
    "Pa = 0\n",
    "\n",
    "for p_ in range(100):\n",
    "    p = p_/100\n",
    "    Pa = binom.pmf(c, n, p) # binom.pmf(x, n, p)\n",
    "    dict_result[p] = Pa\n",
    "\n",
    "key_max = max(dict_result, key=dict_result.get)\n",
    "value_max = max(dict_result.values())\n",
    "print('BINOMIAL')\n",
    "print(\"n:\", n)\n",
    "print(\"c:\", c)\n",
    "print(\"Maximum value on\",key_max, \":\", value_max)\n",
    "print(\"P on p=0.03:\", round(dict_result[0.03],4))\n",
    "print(\"P on p=0.05:\", round(dict_result[0.05],4))\n",
    "print(\"P on p=0.1:\", round(dict_result[0.1],4))\n",
    "print(\"P on p=0.3:\", round(dict_result[0.3],4))\n",
    "print(\"P on p=0.5:\", round(dict_result[0.5],4))\n",
    "print(\"P on p=0.7:\", round(dict_result[0.7],4))\n",
    "print(\"P on p=0.9:\", round(dict_result[0.9],4))\n",
    "\n",
    "# plt.bar(dict_result.keys(), dict_result.values(), width=0.01, color='g')\n",
    "plt.plot(dict_result.keys(), dict_result.values(), color='g')\n",
    "plt.title('binom PMF c={}, n={}'.format(c, n))"
   ]
  },
  {
   "cell_type": "code",
   "execution_count": 18,
   "metadata": {},
   "outputs": [
    {
     "name": "stdout",
     "output_type": "stream",
     "text": [
      "BINOMIAL\n",
      "n: 8\n",
      "c: 3\n",
      "Maximum value on 0.38 : 0.28151222824202254\n",
      "P on p=0.03: 0.0013\n",
      "P on p=0.05: 0.0054\n",
      "P on p=0.1: 0.0331\n",
      "P on p=0.3: 0.2541\n",
      "P on p=0.5: 0.2187\n",
      "P on p=0.7: 0.0467\n",
      "P on p=0.9: 0.0004\n"
     ]
    },
    {
     "data": {
      "text/plain": [
       "Text(0.5, 1.0, 'binom PMF c=3, n=8')"
      ]
     },
     "execution_count": 18,
     "metadata": {},
     "output_type": "execute_result"
    },
    {
     "data": {
      "image/png": "[encoded data removed]",
      "text/plain": [
       "<Figure size 432x288 with 1 Axes>"
      ]
     },
     "metadata": {
      "needs_background": "dark"
     },
     "output_type": "display_data"
    }
   ],
   "source": [
    "c = 3 # jumlah defects bisa diterima\n",
    "n = 8 # jumlah sample dari lot\n",
    "# p = 0.05\n",
    "dict_result = {}\n",
    "\n",
    "for p_ in range(100):\n",
    "    p = p_/100        \n",
    "    Pa = binom.pmf(c, n, p) # binom.pmf(x, n, p)\n",
    "    dict_result[p] = Pa\n",
    "\n",
    "\n",
    "key_max = max(dict_result, key=dict_result.get)\n",
    "value_max = max(dict_result.values())\n",
    "print('BINOMIAL')\n",
    "print(\"n:\", n)\n",
    "print(\"c:\", c)\n",
    "print(\"Maximum value on\",key_max, \":\", value_max)\n",
    "print(\"P on p=0.03:\", round(dict_result[0.03],4))\n",
    "print(\"P on p=0.05:\", round(dict_result[0.05],4))\n",
    "print(\"P on p=0.1:\", round(dict_result[0.1],4))\n",
    "print(\"P on p=0.3:\", round(dict_result[0.3],4))\n",
    "print(\"P on p=0.5:\", round(dict_result[0.5],4))\n",
    "print(\"P on p=0.7:\", round(dict_result[0.7],4))\n",
    "print(\"P on p=0.9:\", round(dict_result[0.9],4))\n",
    "\n",
    "# plt.bar(dict_result.keys(), dict_result.values(), width=0.01, color='g')\n",
    "plt.plot(dict_result.keys(), dict_result.values(), color='g')\n",
    "plt.title('binom PMF c={}, n={}'.format(c, n))"
   ]
  },
  {
   "cell_type": "code",
   "execution_count": 19,
   "metadata": {},
   "outputs": [
    {
     "name": "stdout",
     "output_type": "stream",
     "text": [
      "BINOMIAL\n",
      "n: 8\n",
      "c: 3\n",
      "Maximum value on 0.0 : 1.0\n",
      "P on p=0.03: 0.9999\n",
      "P on p=0.05: 0.9996\n",
      "P on p=0.1: 0.995\n",
      "P on p=0.3: 0.8059\n",
      "P on p=0.5: 0.3633\n",
      "P on p=0.7: 0.058\n",
      "P on p=0.9: 0.0004\n"
     ]
    },
    {
     "data": {
      "text/plain": [
       "Text(0.5, 1.0, 'binom CDF c=3, n=8')"
      ]
     },
     "execution_count": 19,
     "metadata": {},
     "output_type": "execute_result"
    },
    {
     "data": {
      "image/png": "[encoded data removed]",
      "text/plain": [
       "<Figure size 432x288 with 1 Axes>"
      ]
     },
     "metadata": {
      "needs_background": "dark"
     },
     "output_type": "display_data"
    }
   ],
   "source": [
    "c = 3 # jumlah defects bisa diterima\n",
    "n = 8 # jumlah sample dari lot\n",
    "# p = 0.05\n",
    "dict_result = {}\n",
    "\n",
    "for p_ in range(100):\n",
    "    p = p_/100        \n",
    "    Pa = binom.cdf(c, n, p) # binom.cdf(x, n, p)\n",
    "    dict_result[p] = Pa\n",
    "\n",
    "\n",
    "key_max = max(dict_result, key=dict_result.get)\n",
    "value_max = max(dict_result.values())\n",
    "print('BINOMIAL')\n",
    "print(\"n:\", n)\n",
    "print(\"c:\", c)\n",
    "print(\"Maximum value on\",key_max, \":\", value_max)\n",
    "print(\"P on p=0.03:\", round(dict_result[0.03],4))\n",
    "print(\"P on p=0.05:\", round(dict_result[0.05],4))\n",
    "print(\"P on p=0.1:\", round(dict_result[0.1],4))\n",
    "print(\"P on p=0.3:\", round(dict_result[0.3],4))\n",
    "print(\"P on p=0.5:\", round(dict_result[0.5],4))\n",
    "print(\"P on p=0.7:\", round(dict_result[0.7],4))\n",
    "print(\"P on p=0.9:\", round(dict_result[0.9],4))\n",
    "\n",
    "# plt.bar(dict_result.keys(), dict_result.values(), width=0.01, color='g')\n",
    "plt.plot(dict_result.keys(), dict_result.values(), color='g')\n",
    "plt.title('binom CDF c={}, n={}'.format(c, n))"
   ]
  },
  {
   "cell_type": "markdown",
   "metadata": {},
   "source": [
    "# Poisson"
   ]
  },
  {
   "cell_type": "code",
   "execution_count": 20,
   "metadata": {},
   "outputs": [
    {
     "name": "stdout",
     "output_type": "stream",
     "text": [
      "Maximum value on 3 : 0.19536681481316465\n",
      "P on 7: 0.059540362609726366\n"
     ]
    },
    {
     "data": {
      "text/plain": [
       "<BarContainer object of 10 artists>"
      ]
     },
     "execution_count": 20,
     "metadata": {},
     "output_type": "execute_result"
    },
    {
     "data": {
      "image/png": "[encoded data removed]",
      "text/plain": [
       "<Figure size 432x288 with 1 Axes>"
      ]
     },
     "metadata": {
      "needs_background": "dark"
     },
     "output_type": "display_data"
    }
   ],
   "source": [
    "# https://www.youtube.com/watch?v=BbLfV0wOeyc\n",
    "# average daily questions = 4\n",
    "# how likely to have 7 questions\n",
    "\n",
    "# deterministic\n",
    "\n",
    "lambda_ = 4\n",
    "dict_result = {}\n",
    "for Y in range(10):\n",
    "    P = lambda_**Y * math.e**(-lambda_) / math.factorial(Y)\n",
    "    # print('P', k,'=', round(P,4))\n",
    "    dict_result[Y] = P\n",
    "\n",
    "key_max = max(dict_result, key=dict_result.get)\n",
    "value_max = max(dict_result.values())\n",
    "print(\"Maximum value on\",key_max, \":\", value_max)\n",
    "print(\"P on 7:\", dict_result[7])\n",
    "\n",
    "plt.bar(dict_result.keys(), dict_result.values(), width=.5, color='b')\n"
   ]
  },
  {
   "cell_type": "markdown",
   "metadata": {},
   "source": [
    "# OC Curve with Poisson Method"
   ]
  },
  {
   "cell_type": "code",
   "execution_count": 21,
   "metadata": {},
   "outputs": [
    {
     "name": "stdout",
     "output_type": "stream",
     "text": [
      "POISSON\n",
      "n: 8\n",
      "c: 0\n",
      "Maximum value on 0.0 : 1.0\n",
      "P on p=0.03: 0.7866\n",
      "P on p=0.05: 0.6703\n",
      "P on p=0.1: 0.4493\n",
      "P on p=0.3: 0.0907\n",
      "P on p=0.5: 0.0183\n",
      "P on p=0.7: 0.0037\n",
      "P on p=0.9: 0.0007\n"
     ]
    },
    {
     "data": {
      "text/plain": [
       "Text(0.5, 1.0, 'poisson PMF c=0, n=8')"
      ]
     },
     "execution_count": 21,
     "metadata": {},
     "output_type": "execute_result"
    },
    {
     "data": {
      "image/png": "[encoded data removed]",
      "text/plain": [
       "<Figure size 432x288 with 1 Axes>"
      ]
     },
     "metadata": {
      "needs_background": "dark"
     },
     "output_type": "display_data"
    }
   ],
   "source": [
    "# http://myplace.frontier.com/~stevebrainerd1/STATISTICS/ECE-580-DOE%20WEEK%203_files/class2_oc_curve.pdf\n",
    "\n",
    "# deterministic\n",
    "n = 8 # jumlah sample dari lot\n",
    "c = 0 # jumlah defects bisa diterima\n",
    "\n",
    "dict_result = {}\n",
    "for p_ in range(100):\n",
    "    p = p_/100\n",
    "    # P = lambda_**c * math.e**(-lambda_) / math.factorial(c)\n",
    "    P = poisson.pmf(c, n*p) # poisson.pmf(x, mu)\n",
    "    # print('P', k,'=', round(P,4))\n",
    "    dict_result[p] = P\n",
    "\n",
    "key_max = max(dict_result, key=dict_result.get)\n",
    "value_max = max(dict_result.values())\n",
    "print('POISSON')\n",
    "print(\"n:\", n)\n",
    "print(\"c:\", c)\n",
    "print(\"Maximum value on\",key_max, \":\", value_max)\n",
    "print(\"P on p=0.03:\", round(dict_result[0.03],4))\n",
    "print(\"P on p=0.05:\", round(dict_result[0.05],4))\n",
    "print(\"P on p=0.1:\", round(dict_result[0.1],4))\n",
    "print(\"P on p=0.3:\", round(dict_result[0.3],4))\n",
    "print(\"P on p=0.5:\", round(dict_result[0.5],4))\n",
    "print(\"P on p=0.7:\", round(dict_result[0.7],4))\n",
    "print(\"P on p=0.9:\", round(dict_result[0.9],4))\n",
    "\n",
    "# plt.bar(dict_result.keys(), dict_result.values(), width=.01, color='b')\n",
    "plt.plot(dict_result.keys(), dict_result.values(), color='b')\n",
    "plt.title('poisson PMF c={}, n={}'.format(c, n))\n"
   ]
  },
  {
   "cell_type": "code",
   "execution_count": 22,
   "metadata": {},
   "outputs": [
    {
     "name": "stdout",
     "output_type": "stream",
     "text": [
      "POISSON\n",
      "n: 8\n",
      "c: 0\n",
      "Maximum value on 0.0 : 1.0\n",
      "P on p=0.03: 0.7866\n",
      "P on p=0.05: 0.6703\n",
      "P on p=0.1: 0.4493\n",
      "P on p=0.3: 0.0907\n",
      "P on p=0.5: 0.0183\n",
      "P on p=0.7: 0.0037\n",
      "P on p=0.9: 0.0007\n"
     ]
    },
    {
     "data": {
      "text/plain": [
       "Text(0.5, 1.0, 'poisson CDF c=0, n=8')"
      ]
     },
     "execution_count": 22,
     "metadata": {},
     "output_type": "execute_result"
    },
    {
     "data": {
      "image/png": "[encoded data removed]",
      "text/plain": [
       "<Figure size 432x288 with 1 Axes>"
      ]
     },
     "metadata": {
      "needs_background": "dark"
     },
     "output_type": "display_data"
    }
   ],
   "source": [
    "# http://myplace.frontier.com/~stevebrainerd1/STATISTICS/ECE-580-DOE%20WEEK%203_files/class2_oc_curve.pdf\n",
    "\n",
    "# deterministic\n",
    "n = 8 # jumlah sample dari lot\n",
    "c = 0 # jumlah defects bisa diterima\n",
    "\n",
    "dict_result = {}\n",
    "for p_ in range(100):\n",
    "    p = p_/100\n",
    "    lambda_ = n*p\n",
    "    # P = lambda_**c * math.e**(-lambda_) / math.factorial(c)\n",
    "    P = poisson.cdf(c, n*p) # poisson.cdf(x, mu)\n",
    "    # print('P', k,'=', round(P,4))\n",
    "    dict_result[p] = P\n",
    "\n",
    "key_max = max(dict_result, key=dict_result.get)\n",
    "value_max = max(dict_result.values())\n",
    "print('POISSON')\n",
    "print(\"n:\", n)\n",
    "print(\"c:\", c)\n",
    "print(\"Maximum value on\",key_max, \":\", value_max)\n",
    "print(\"P on p=0.03:\", round(dict_result[0.03],4))\n",
    "print(\"P on p=0.05:\", round(dict_result[0.05],4))\n",
    "print(\"P on p=0.1:\", round(dict_result[0.1],4))\n",
    "print(\"P on p=0.3:\", round(dict_result[0.3],4))\n",
    "print(\"P on p=0.5:\", round(dict_result[0.5],4))\n",
    "print(\"P on p=0.7:\", round(dict_result[0.7],4))\n",
    "print(\"P on p=0.9:\", round(dict_result[0.9],4))\n",
    "\n",
    "# plt.bar(dict_result.keys(), dict_result.values(), width=.01, color='b')\n",
    "plt.plot(dict_result.keys(), dict_result.values(), color='b')\n",
    "plt.title('poisson CDF c={}, n={}'.format(c, n))\n"
   ]
  },
  {
   "cell_type": "code",
   "execution_count": 23,
   "metadata": {},
   "outputs": [
    {
     "name": "stdout",
     "output_type": "stream",
     "text": [
      "POISSON\n",
      "n: 8\n",
      "c: 3\n",
      "Maximum value on 0.38 : 0.22398259680645574\n",
      "P on p=0.03: 0.0018\n",
      "P on p=0.05: 0.0072\n",
      "P on p=0.1: 0.0383\n",
      "P on p=0.3: 0.209\n",
      "P on p=0.5: 0.1954\n",
      "P on p=0.7: 0.1082\n",
      "P on p=0.9: 0.0464\n"
     ]
    },
    {
     "data": {
      "text/plain": [
       "Text(0.5, 1.0, 'poisson PMF c=3, n=8')"
      ]
     },
     "execution_count": 23,
     "metadata": {},
     "output_type": "execute_result"
    },
    {
     "data": {
      "image/png": "[encoded data removed]",
      "text/plain": [
       "<Figure size 432x288 with 1 Axes>"
      ]
     },
     "metadata": {
      "needs_background": "dark"
     },
     "output_type": "display_data"
    }
   ],
   "source": [
    "# http://myplace.frontier.com/~stevebrainerd1/STATISTICS/ECE-580-DOE%20WEEK%203_files/class2_oc_curve.pdf\n",
    "# https://docs.scipy.org/doc/scipy/reference/generated/scipy.stats.poisson.html\n",
    "\n",
    "# deterministic\n",
    "n = 8 # jumlah sample dari lot\n",
    "c = 3 # jumlah defects bisa diterima\n",
    "\n",
    "dict_result = {}\n",
    "\n",
    "for p_ in range(100):\n",
    "    p = p_/100\n",
    "    P = poisson.pmf(c, n*p) # poisson.pmf(x, mu)\n",
    "    dict_result[p] = P\n",
    "\n",
    "key_max = max(dict_result, key=dict_result.get)\n",
    "value_max = max(dict_result.values())\n",
    "print('POISSON')\n",
    "print(\"n:\", n)\n",
    "print(\"c:\", c)\n",
    "print(\"Maximum value on\",key_max, \":\", value_max)\n",
    "print(\"P on p=0.03:\", round(dict_result[0.03],4))\n",
    "print(\"P on p=0.05:\", round(dict_result[0.05],4))\n",
    "print(\"P on p=0.1:\", round(dict_result[0.1],4))\n",
    "print(\"P on p=0.3:\", round(dict_result[0.3],4))\n",
    "print(\"P on p=0.5:\", round(dict_result[0.5],4))\n",
    "print(\"P on p=0.7:\", round(dict_result[0.7],4))\n",
    "print(\"P on p=0.9:\", round(dict_result[0.9],4))\n",
    "\n",
    "# plt.bar(dict_result.keys(), dict_result.values(), width=.01, color='b')\n",
    "plt.plot(dict_result.keys(), dict_result.values(), color='b')\n",
    "plt.title('poisson PMF c={}, n={}'.format(c,n))"
   ]
  },
  {
   "cell_type": "code",
   "execution_count": 24,
   "metadata": {},
   "outputs": [
    {
     "name": "stdout",
     "output_type": "stream",
     "text": [
      "Maximum value on 0.0 : 1.0\n",
      "P on p=0.03: 0.9999\n",
      "P on p=0.05: 0.9992\n",
      "P on p=0.1: 0.9909\n",
      "P on p=0.3: 0.7787\n",
      "P on p=0.5: 0.4335\n",
      "P on p=0.7: 0.1906\n",
      "P on p=0.9: 0.0719\n"
     ]
    },
    {
     "data": {
      "text/plain": [
       "Text(0.5, 1.0, 'poisson CDF c=3, n=8')"
      ]
     },
     "execution_count": 24,
     "metadata": {},
     "output_type": "execute_result"
    },
    {
     "data": {
      "image/png": "[encoded data removed]",
      "text/plain": [
       "<Figure size 432x288 with 1 Axes>"
      ]
     },
     "metadata": {
      "needs_background": "dark"
     },
     "output_type": "display_data"
    }
   ],
   "source": [
    "# http://myplace.frontier.com/~stevebrainerd1/STATISTICS/ECE-580-DOE%20WEEK%203_files/class2_oc_curve.pdf\n",
    "# https://docs.scipy.org/doc/scipy/reference/generated/scipy.stats.poisson.html\n",
    "\n",
    "# deterministic\n",
    "n = 8 # jumlah sample dari lot\n",
    "c = 3 # jumlah defects bisa diterima\n",
    "\n",
    "dict_result = {}\n",
    "\n",
    "for p_ in range(100):\n",
    "    p = p_/100\n",
    "    P = poisson.cdf(c, n*p) # poisson.cdf(x, mu)\n",
    "    dict_result[p] = P\n",
    "\n",
    "key_max = max(dict_result, key=dict_result.get)\n",
    "value_max = max(dict_result.values())\n",
    "print(\"Maximum value on\",key_max, \":\", value_max)\n",
    "print(\"P on p=0.03:\", round(dict_result[0.03],4))\n",
    "print(\"P on p=0.05:\", round(dict_result[0.05],4))\n",
    "print(\"P on p=0.1:\", round(dict_result[0.1],4))\n",
    "print(\"P on p=0.3:\", round(dict_result[0.3],4))\n",
    "print(\"P on p=0.5:\", round(dict_result[0.5],4))\n",
    "print(\"P on p=0.7:\", round(dict_result[0.7],4))\n",
    "print(\"P on p=0.9:\", round(dict_result[0.9],4))\n",
    "\n",
    "\n",
    "# plt.bar(dict_result.keys(), dict_result.values(), width=.01, color='b')\n",
    "plt.plot(dict_result.keys(), dict_result.values(), color='b')\n",
    "plt.title('poisson CDF c={}, n={}'.format(c,n))"
   ]
  }
 ],
 "metadata": {
  "kernelspec": {
   "display_name": "Python 3.10.4 64-bit",
   "language": "python",
   "name": "python3"
  },
  "language_info": {
   "codemirror_mode": {
    "name": "ipython",
    "version": 3
   },
   "file_extension": ".py",
   "mimetype": "text/x-python",
   "name": "python",
   "nbconvert_exporter": "python",
   "pygments_lexer": "ipython3",
   "version": "3.10.4"
  },
  "orig_nbformat": 4,
  "vscode": {
   "interpreter": {
    "hash": "de93ffed9bd24b7d9f645a83e8d3156599714ee4bf33b5548e4972a381fe44e5"
   }
  }
 },
 "nbformat": 4,
 "nbformat_minor": 2
}
