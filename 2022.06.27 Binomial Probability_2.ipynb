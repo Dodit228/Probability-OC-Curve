{
 "cells": [
  {
   "cell_type": "code",
   "execution_count": 55,
   "metadata": {},
   "outputs": [],
   "source": [
    "import random"
   ]
  },
  {
   "cell_type": "code",
   "execution_count": 56,
   "metadata": {},
   "outputs": [
    {
     "name": "stdout",
     "output_type": "stream",
     "text": [
      "262715\n",
      "0.262715\n"
     ]
    }
   ],
   "source": [
    "counter = 0\n",
    "iter = 1_000_000\n",
    "for i in range(iter):\n",
    "    list_10_rand = [round(random.random(),3) for i in range(50)]\n",
    "    count = sum(i>0.95 for i in list_10_rand)\n",
    "    if count == 2:\n",
    "        counter += 1\n",
    "\n",
    "# print(list_10_rand)\n",
    "print(counter)\n",
    "print(counter/iter)"
   ]
  }
 ],
 "metadata": {
  "kernelspec": {
   "display_name": "Python 3.10.4 64-bit",
   "language": "python",
   "name": "python3"
  },
  "language_info": {
   "codemirror_mode": {
    "name": "ipython",
    "version": 3
   },
   "file_extension": ".py",
   "mimetype": "text/x-python",
   "name": "python",
   "nbconvert_exporter": "python",
   "pygments_lexer": "ipython3",
   "version": "3.10.4"
  },
  "orig_nbformat": 4,
  "vscode": {
   "interpreter": {
    "hash": "de93ffed9bd24b7d9f645a83e8d3156599714ee4bf33b5548e4972a381fe44e5"
   }
  }
 },
 "nbformat": 4,
 "nbformat_minor": 2
}
