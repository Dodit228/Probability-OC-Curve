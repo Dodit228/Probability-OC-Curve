{
 "cells": [
  {
   "cell_type": "code",
   "execution_count": 1,
   "metadata": {},
   "outputs": [],
   "source": [
    "import random\n",
    "import handcalcs.render\n",
    "import math\n",
    "import matplotlib.pyplot as plt\n",
    "from scipy.stats import poisson\n",
    "from scipy.stats import binom\n",
    "from scipy.stats import hypergeom\n",
    "from matplotlib.pyplot import cm\n",
    "import numpy as np\n",
    "plt.style.use('dark_background')"
   ]
  },
  {
   "cell_type": "code",
   "execution_count": 2,
   "metadata": {},
   "outputs": [],
   "source": [
    "def f_plot_bar(dict_result, bar_width, color_code):\n",
    "    # key_max = max(dict_result, key=dict_result.get)\n",
    "    # value_max = max(dict_result.values())\n",
    "    # print(\"Maximum value on\",key_max, \":\", value_max)\n",
    "    plt.bar(dict_result.keys(), dict_result.values(), width=bar_width, color=color_code)\n",
    "\n",
    "def f_plot_curve(dict_result, color_code):\n",
    "    # key_max = max(dict_result, key=dict_result.get)\n",
    "    # value_max = max(dict_result.values())\n",
    "    # print(\"Maximum value on\",key_max, \":\", value_max)\n",
    "    plt.plot(dict_result.keys(), dict_result.values(), color=color_code)\n"
   ]
  },
  {
   "cell_type": "markdown",
   "metadata": {},
   "source": [
    "# Binomial Distribution"
   ]
  },
  {
   "cell_type": "code",
   "execution_count": 3,
   "metadata": {},
   "outputs": [],
   "source": [
    "# deterministic binomial PMF\n",
    "# https://en.wikipedia.org/wiki/Binomial_distribution\n",
    "\n",
    "class Binom:\n",
    "    def __init__(self, n, p, k=0):\n",
    "        self.n = n\n",
    "        self.p = p\n",
    "        self.k = k\n",
    "        self.dict_result = {}\n",
    "    # def binom_pmf_hc(self):\n",
    "    #     self.PMF_hc = (math.factorial(self.n)/\n",
    "    #         (math.factorial(self.k)*math.factorial(self.n-self.k)))*\\\n",
    "    #         self.p**(self.k) * (1-self.p)**(self.n-self.k)\n",
    "    #     return self.PMF_hc\n",
    "    \n",
    "    # _hc: hand calculation\n",
    "    def binom_p_hc(self):\n",
    "        self.P_hc = (math.factorial(self.n)/\n",
    "            (math.factorial(self.k)*math.factorial(self.n-self.k)))*\\\n",
    "            self.p**(self.k) * (1-self.p)**(self.n-self.k)\n",
    "        return self.P_hc\n",
    "    # def binom_pmf_sp(self):\n",
    "    #     self.PMF_sp = binom.pmf(self.k, self.n, self.p) # binom.pmf(x, n, p)\n",
    "    #     return self.PMF_sp\n",
    "\n",
    "    # _sp: scipy\n",
    "    def binom_p_sp(self):\n",
    "        self.P_sp = binom.pmf(self.k, self.n, self.p) # binom.pmf(x, n, p)\n",
    "        return self.P_sp\n",
    "    def binom_cdf_sp(self):\n",
    "        self.C_sp = binom.cdf(self.k, self.n, self.p) # binom.cdf(x, n, p)\n",
    "        return self.C_sp\n",
    "\n"
   ]
  },
  {
   "cell_type": "markdown",
   "metadata": {},
   "source": [
    "### Binomial Probability Mass Function\n",
    "#### Hand Calculation"
   ]
  },
  {
   "cell_type": "code",
   "execution_count": 4,
   "metadata": {},
   "outputs": [
    {
     "name": "stdout",
     "output_type": "stream",
     "text": [
      "{0: 0.0625, 1: 0.25, 2: 0.375, 3: 0.25, 4: 0.0625}\n",
      "Maximum value on 2 : 0.375\n"
     ]
    },
    {
     "data": {
      "text/plain": [
       "Text(0.5, 1.0, 'Binom PMF Hand Calc., p=0.5, n=4')"
      ]
     },
     "execution_count": 4,
     "metadata": {},
     "output_type": "execute_result"
    },
    {
     "data": {
      "image/png": "[encoded data removed]",
      "text/plain": [
       "<Figure size 432x288 with 1 Axes>"
      ]
     },
     "metadata": {
      "needs_background": "dark"
     },
     "output_type": "display_data"
    }
   ],
   "source": [
    "p = 0.5\n",
    "n = 4\n",
    "dict_result = {}\n",
    "\n",
    "for k in range(n+1):\n",
    "    binom_level4_hc = Binom(n, p, k) # (n, p, k=0)\n",
    "    dict_result[k] = round(binom_level4_hc.binom_p_hc(),4)\n",
    "print(dict_result)\n",
    "\n",
    "key_max = max(dict_result, key=dict_result.get)\n",
    "value_max = max(dict_result.values())\n",
    "print(\"Maximum value on\",key_max, \":\", value_max)\n",
    "f_plot_bar(dict_result, 0.5, 'g')\n",
    "\n",
    "plt.ylabel('P')\n",
    "plt.xlabel('k')\n",
    "plt.title('Binom PMF Hand Calc., p={}, n={}'.format(p,n))"
   ]
  },
  {
   "cell_type": "markdown",
   "metadata": {},
   "source": [
    "#### Scipy Function"
   ]
  },
  {
   "cell_type": "code",
   "execution_count": 5,
   "metadata": {},
   "outputs": [
    {
     "name": "stdout",
     "output_type": "stream",
     "text": [
      "{0: 0.0625, 1: 0.25, 2: 0.375, 3: 0.25, 4: 0.0625}\n",
      "Maximum value on 2 : 0.375\n"
     ]
    },
    {
     "data": {
      "text/plain": [
       "Text(0.5, 1.0, 'Binom PMF Scipy, p=0.5, n=4')"
      ]
     },
     "execution_count": 5,
     "metadata": {},
     "output_type": "execute_result"
    },
    {
     "data": {
      "image/png": "[encoded data removed]",
      "text/plain": [
       "<Figure size 432x288 with 1 Axes>"
      ]
     },
     "metadata": {
      "needs_background": "dark"
     },
     "output_type": "display_data"
    }
   ],
   "source": [
    "p = 0.5\n",
    "n = 4\n",
    "dict_result = {}\n",
    "\n",
    "for k in range(n+1):\n",
    "    binom_level4_sp = Binom(n, p, k) # (n, p, k=0)\n",
    "    dict_result[k] = round(binom_level4_sp.binom_p_sp(),4)\n",
    "print(dict_result)\n",
    "\n",
    "key_max = max(dict_result, key=dict_result.get)\n",
    "value_max = max(dict_result.values())\n",
    "print(\"Maximum value on\",key_max, \":\", value_max)\n",
    "f_plot_bar(dict_result, 0.5, 'g')\n",
    "\n",
    "plt.ylabel('P')\n",
    "plt.xlabel('k')\n",
    "plt.title('Binom PMF Scipy, p={}, n={}'.format(p,n))"
   ]
  },
  {
   "cell_type": "markdown",
   "metadata": {},
   "source": [
    "### Simulasi Koin Fair\n",
    "#### Peluang head pada 1 kesempatan toss"
   ]
  },
  {
   "cell_type": "code",
   "execution_count": 6,
   "metadata": {},
   "outputs": [
    {
     "name": "stdout",
     "output_type": "stream",
     "text": [
      "{0: 0.5, 1: 0.5}\n",
      "Maximum value on 0 : 0.5\n"
     ]
    },
    {
     "data": {
      "text/plain": [
       "Text(0.5, 1.0, 'Deterministic Koin 1 Toss, p=0.5, n=1')"
      ]
     },
     "execution_count": 6,
     "metadata": {},
     "output_type": "execute_result"
    },
    {
     "data": {
      "image/png": "[encoded data removed]",
      "text/plain": [
       "<Figure size 432x288 with 1 Axes>"
      ]
     },
     "metadata": {
      "needs_background": "dark"
     },
     "output_type": "display_data"
    }
   ],
   "source": [
    "# deterministic\n",
    "\n",
    "p = 0.5\n",
    "n = 1\n",
    "dict_result = {}\n",
    "\n",
    "for k in range(n+1):\n",
    "    binom_1_hc = Binom(n, p, k) # (n, p, k=0)\n",
    "    dict_result[k] = round(binom_1_hc.binom_p_hc(),4)\n",
    "print(dict_result)\n",
    "\n",
    "key_max = max(dict_result, key=dict_result.get)\n",
    "value_max = max(dict_result.values())\n",
    "print(\"Maximum value on\",key_max, \":\", value_max)\n",
    "f_plot_bar(dict_result, 0.1, 'g')\n",
    "\n",
    "plt.ylabel('P')\n",
    "plt.xlabel('k')\n",
    "plt.title('Deterministic Koin 1 Toss, p={}, n={}'.format(p,n))"
   ]
  },
  {
   "cell_type": "code",
   "execution_count": 7,
   "metadata": {},
   "outputs": [
    {
     "name": "stdout",
     "output_type": "stream",
     "text": [
      "{0: 0.501, 1: 0.499}\n",
      "Maximum value on 0 : 0.501\n"
     ]
    },
    {
     "data": {
      "text/plain": [
       "Text(0.5, 1.0, 'Stochastic Koin 1 Toss, p=0.5, n=1')"
      ]
     },
     "execution_count": 7,
     "metadata": {},
     "output_type": "execute_result"
    },
    {
     "data": {
      "image/png": "[encoded data removed]",
      "text/plain": [
       "<Figure size 432x288 with 1 Axes>"
      ]
     },
     "metadata": {
      "needs_background": "dark"
     },
     "output_type": "display_data"
    }
   ],
   "source": [
    "# stochastic\n",
    "\n",
    "list_coin = ['head', 'tail']\n",
    "\n",
    "list_result_head = []\n",
    "iteration_count = 100_000\n",
    "trials = 1\n",
    "\n",
    "for i in range(iteration_count):\n",
    "    count_trials = trials\n",
    "    list_result = []\n",
    "    counter_head = 0\n",
    "    counter_tail = 0\n",
    "    for i in range(count_trials):\n",
    "        event = random.choice(list_coin)\n",
    "        if event == 'head':\n",
    "            counter_head += 1\n",
    "    counter_tail = count_trials - counter_head\n",
    "    list_result_head.append(counter_head)\n",
    "    # print(counter_head)\n",
    "    # print(counter_tail)\n",
    "\n",
    "# print(list_result_head)\n",
    "set_result_head = {i for i in range(trials+1)}\n",
    "dict_result_head = {}\n",
    "for i in set_result_head:\n",
    "    dict_result_head[i] = round(list_result_head.count(i)/iteration_count,4)\n",
    "print(dict_result_head)\n",
    "\n",
    "key_max = max(dict_result_head, key=dict_result_head.get)\n",
    "value_max = max(dict_result_head.values())\n",
    "print(\"Maximum value on\",key_max, \":\", value_max)\n",
    "# print(\"Pr on 1:\", dict_result_head[1])\n",
    "\n",
    "# f_plot_bar(dict_result, 0.1, 'g')\n",
    "f_plot_bar(dict_result_head, 0.1, 'g')\n",
    "\n",
    "plt.ylabel('P')\n",
    "plt.xlabel('k')\n",
    "plt.title('Stochastic Koin 1 Toss, p={}, n={}'.format(p,n))"
   ]
  },
  {
   "cell_type": "markdown",
   "metadata": {},
   "source": [
    "#### Peluang jumlah tepat head pada 6 kesempatan toss"
   ]
  },
  {
   "cell_type": "code",
   "execution_count": 8,
   "metadata": {},
   "outputs": [
    {
     "name": "stdout",
     "output_type": "stream",
     "text": [
      "{0: 0.0156, 1: 0.0938, 2: 0.2344, 3: 0.3125, 4: 0.2344, 5: 0.0938, 6: 0.0156}\n",
      "Maximum value on 3 : 0.3125\n"
     ]
    },
    {
     "data": {
      "text/plain": [
       "Text(0.5, 1.0, 'Deterministic Koin 6 Toss, p=0.5, n=6')"
      ]
     },
     "execution_count": 8,
     "metadata": {},
     "output_type": "execute_result"
    },
    {
     "data": {
      "image/png": "[encoded data removed]",
      "text/plain": [
       "<Figure size 432x288 with 1 Axes>"
      ]
     },
     "metadata": {
      "needs_background": "dark"
     },
     "output_type": "display_data"
    }
   ],
   "source": [
    "# deterministic\n",
    "\n",
    "p = 0.5\n",
    "n = 6\n",
    "dict_result = {}\n",
    "\n",
    "for k in range(n+1):\n",
    "    binom_1_hc = Binom(n, p, k) # (n, p, k=0)\n",
    "    dict_result[k] = round(binom_1_hc.binom_p_hc(),4)\n",
    "print(dict_result)\n",
    "\n",
    "key_max = max(dict_result, key=dict_result.get)\n",
    "value_max = max(dict_result.values())\n",
    "print(\"Maximum value on\",key_max, \":\", value_max)\n",
    "\n",
    "f_plot_bar(dict_result, 0.75, 'g')\n",
    "\n",
    "plt.ylabel('P')\n",
    "plt.xlabel('k, jumlah head')\n",
    "plt.title('Deterministic Koin 6 Toss, p={}, n={}'.format(p,n))"
   ]
  },
  {
   "cell_type": "code",
   "execution_count": 9,
   "metadata": {},
   "outputs": [
    {
     "name": "stdout",
     "output_type": "stream",
     "text": [
      "{0: 0.0153, 1: 0.0937, 2: 0.2354, 3: 0.3122, 4: 0.2337, 5: 0.094, 6: 0.0157}\n",
      "Maximum value on 3 : 0.3122\n"
     ]
    },
    {
     "data": {
      "text/plain": [
       "Text(0.5, 1.0, 'Stochastic Koin 6 Toss, p=0.5, n=6')"
      ]
     },
     "execution_count": 9,
     "metadata": {},
     "output_type": "execute_result"
    },
    {
     "data": {
      "image/png": "[encoded data removed]",
      "text/plain": [
       "<Figure size 432x288 with 1 Axes>"
      ]
     },
     "metadata": {
      "needs_background": "dark"
     },
     "output_type": "display_data"
    }
   ],
   "source": [
    "# stochastic\n",
    "\n",
    "list_coin = ['head', 'tail']\n",
    "\n",
    "list_result_head = []\n",
    "iteration_count = 100_000\n",
    "trials = 6\n",
    "\n",
    "for i in range(iteration_count):\n",
    "    count_trials = trials\n",
    "    list_result = []\n",
    "    counter_head = 0\n",
    "    counter_tail = 0\n",
    "    for i in range(count_trials):\n",
    "        event = random.choice(list_coin)\n",
    "        if event == 'head':\n",
    "            counter_head += 1\n",
    "    counter_tail = count_trials - counter_head\n",
    "    list_result_head.append(counter_head)\n",
    "    # print(counter_head)\n",
    "    # print(counter_tail)\n",
    "\n",
    "# print(list_result_head)\n",
    "set_result_head = {i for i in range(trials+1)}\n",
    "dict_result_head = {}\n",
    "for i in set_result_head:\n",
    "    dict_result_head[i] = round(list_result_head.count(i)/iteration_count,4)\n",
    "print(dict_result_head)\n",
    "\n",
    "key_max = max(dict_result_head, key=dict_result_head.get)\n",
    "value_max = max(dict_result_head.values())\n",
    "print(\"Maximum value on\",key_max, \":\", value_max)\n",
    "\n",
    "f_plot_bar(dict_result_head, 0.75, 'g')\n",
    "\n",
    "plt.ylabel('P')\n",
    "plt.xlabel('k, jumlah head')\n",
    "plt.title('Stochastic Koin 6 Toss, p={}, n={}'.format(p,n))"
   ]
  },
  {
   "cell_type": "markdown",
   "metadata": {},
   "source": [
    "### Simulasi Dadu\n",
    "#### Peluang six pada 1 kesempatan roll"
   ]
  },
  {
   "cell_type": "code",
   "execution_count": 10,
   "metadata": {},
   "outputs": [
    {
     "name": "stdout",
     "output_type": "stream",
     "text": [
      "{0: 0.8333, 1: 0.1667}\n",
      "Maximum value on 0 : 0.8333\n",
      "Pr on 1 six on 1 roll: 0.1667\n"
     ]
    },
    {
     "data": {
      "text/plain": [
       "Text(0.5, 1.0, 'Deterministic Dadu 1 Roll, p=0.1667, n=1')"
      ]
     },
     "execution_count": 10,
     "metadata": {},
     "output_type": "execute_result"
    },
    {
     "data": {
      "image/png": "[encoded data removed]",
      "text/plain": [
       "<Figure size 432x288 with 1 Axes>"
      ]
     },
     "metadata": {
      "needs_background": "dark"
     },
     "output_type": "display_data"
    }
   ],
   "source": [
    "# determininstic\n",
    "\n",
    "p = 1/6\n",
    "n = 1\n",
    "dict_result = {}\n",
    "\n",
    "for k in range(n+1):\n",
    "    dadu_enam_1 = Binom(n, p, k) # (n, p, k=0)\n",
    "    dict_result[k] = round(dadu_enam_1.binom_p_hc(),4)\n",
    "print(dict_result)\n",
    "\n",
    "key_max = max(dict_result, key=dict_result.get)\n",
    "value_max = max(dict_result.values())\n",
    "print(\"Maximum value on\",key_max, \":\", value_max)\n",
    "print(\"Pr on 1 six on 1 roll:\", dict_result[1])\n",
    "\n",
    "f_plot_bar(dict_result, 0.1, 'g')\n",
    "\n",
    "plt.ylabel('P')\n",
    "plt.xlabel('k, jumlah six')\n",
    "plt.title('Deterministic Dadu 1 Roll, p={}, n={}'.format(round(p,4),n))"
   ]
  },
  {
   "cell_type": "code",
   "execution_count": 11,
   "metadata": {},
   "outputs": [
    {
     "name": "stdout",
     "output_type": "stream",
     "text": [
      "{0: 0.8333, 1: 0.1667}\n",
      "Maximum value on 0 : 0.8333\n",
      "Pr on 1 six on 1 roll: 0.1667\n"
     ]
    },
    {
     "data": {
      "text/plain": [
       "Text(0.5, 1.0, 'Stochastic Dadu 1 Roll, p=0.1667, n=1')"
      ]
     },
     "execution_count": 11,
     "metadata": {},
     "output_type": "execute_result"
    },
    {
     "data": {
      "image/png": "[encoded data removed]",
      "text/plain": [
       "<Figure size 432x288 with 1 Axes>"
      ]
     },
     "metadata": {
      "needs_background": "dark"
     },
     "output_type": "display_data"
    }
   ],
   "source": [
    "# stochastic\n",
    "\n",
    "list_die = ['one', 'two', 'three', 'four', 'five', 'six']\n",
    "\n",
    "list_result_six = []\n",
    "iteration_count = 100_000\n",
    "trials = 1\n",
    "\n",
    "for i in range(iteration_count):\n",
    "    count_trials = trials\n",
    "    list_result = []\n",
    "    counter_six = 0\n",
    "    for i in range(count_trials):\n",
    "        event = random.choice(list_die)\n",
    "        if event == 'six':\n",
    "            counter_six += 1\n",
    "    counter_non_six = count_trials - counter_six\n",
    "    list_result_six.append(counter_six)\n",
    "    # print(counter_head)\n",
    "    # print(counter_tail)\n",
    "\n",
    "# print(list_result_head)\n",
    "set_result_six = {i for i in range(trials+1)}\n",
    "dict_result_six = {}\n",
    "for i in set_result_six:\n",
    "    dict_result_six[i] = round(list_result_six.count(i)/iteration_count,4)\n",
    "print(dict_result_six)\n",
    "\n",
    "key_max = max(dict_result_six, key=dict_result_six.get)\n",
    "value_max = max(dict_result_six.values())\n",
    "print(\"Maximum value on\",key_max, \":\", value_max)\n",
    "print(\"Pr on 1 six on 1 roll:\", dict_result_six[1])\n",
    "\n",
    "f_plot_bar(dict_result, 0.1, 'g')\n",
    "\n",
    "plt.ylabel('P')\n",
    "plt.xlabel('k, jumlah six')\n",
    "plt.title('Stochastic Dadu 1 Roll, p={}, n={}'.format(round(p,4),n))"
   ]
  },
  {
   "cell_type": "markdown",
   "metadata": {},
   "source": [
    "#### Peluang six pada 3 kesempatan roll"
   ]
  },
  {
   "cell_type": "code",
   "execution_count": 12,
   "metadata": {},
   "outputs": [
    {
     "name": "stdout",
     "output_type": "stream",
     "text": [
      "{0: 0.5787, 1: 0.3472, 2: 0.0694, 3: 0.0046}\n",
      "Maximum value on 0 : 0.5787\n",
      "Pr on 2 six on 3 roll: 0.0694\n"
     ]
    },
    {
     "data": {
      "text/plain": [
       "Text(0.5, 1.0, 'Deterministic Dadu 3 Roll, p=0.1667, n=3')"
      ]
     },
     "execution_count": 12,
     "metadata": {},
     "output_type": "execute_result"
    },
    {
     "data": {
      "image/png": "[encoded data removed]",
      "text/plain": [
       "<Figure size 432x288 with 1 Axes>"
      ]
     },
     "metadata": {
      "needs_background": "dark"
     },
     "output_type": "display_data"
    }
   ],
   "source": [
    "# deterministic\n",
    "\n",
    "p = 1/6\n",
    "n = 3\n",
    "dict_result = {}\n",
    "\n",
    "for k in range(n+1):\n",
    "    dadu_enam_1 = Binom(n, p, k) # (n, p, k=0)\n",
    "    dict_result[k] = round(dadu_enam_1.binom_p_hc(),4)\n",
    "print(dict_result)\n",
    "\n",
    "key_max = max(dict_result, key=dict_result.get)\n",
    "value_max = max(dict_result.values())\n",
    "print(\"Maximum value on\",key_max, \":\", value_max)\n",
    "print(\"Pr on 2 six on 3 roll:\", dict_result[2])\n",
    "\n",
    "f_plot_bar(dict_result, 0.75, 'g')\n",
    "\n",
    "plt.ylabel('P')\n",
    "plt.xlabel('k, jumlah six')\n",
    "plt.title('Deterministic Dadu 3 Roll, p={}, n={}'.format(round(p,4),n))"
   ]
  },
  {
   "cell_type": "code",
   "execution_count": 13,
   "metadata": {},
   "outputs": [
    {
     "name": "stdout",
     "output_type": "stream",
     "text": [
      "{0: 0.5787, 1: 0.9259, 2: 0.9954, 3: 1.0}\n",
      "Maximum value on 3 : 1.0\n",
      "Pr on 2 six on 3 roll: 0.9954\n"
     ]
    },
    {
     "data": {
      "text/plain": [
       "Text(0.5, 1.0, 'Deterministic Dadu 3 Roll, p=0.1667, n=3')"
      ]
     },
     "execution_count": 13,
     "metadata": {},
     "output_type": "execute_result"
    },
    {
     "data": {
      "image/png": "[encoded data removed]",
      "text/plain": [
       "<Figure size 432x288 with 1 Axes>"
      ]
     },
     "metadata": {
      "needs_background": "dark"
     },
     "output_type": "display_data"
    }
   ],
   "source": [
    "# deterministic + Cumulative\n",
    "\n",
    "p = 1/6\n",
    "n = 3\n",
    "dict_result = {}\n",
    "C_ = 0\n",
    "\n",
    "for k in range(n+1):\n",
    "    dadu_enam_1 = Binom(n, p, k) # (n, p, k=0)\n",
    "    C_ = dadu_enam_1.binom_cdf_sp()\n",
    "    dict_result[k] = round(C_,4)\n",
    "print(dict_result)\n",
    "\n",
    "key_max = max(dict_result, key=dict_result.get)\n",
    "value_max = max(dict_result.values())\n",
    "print(\"Maximum value on\",key_max, \":\", value_max)\n",
    "print(\"Pr on 2 six on 3 roll:\", dict_result[2])\n",
    "\n",
    "f_plot_bar(dict_result, 0.75, 'g')\n",
    "\n",
    "plt.ylabel('P')\n",
    "plt.xlabel('k, jumlah six')\n",
    "plt.title('Deterministic Dadu 3 Roll, p={}, n={}'.format(round(p,4),n))"
   ]
  },
  {
   "cell_type": "code",
   "execution_count": 14,
   "metadata": {},
   "outputs": [
    {
     "name": "stdout",
     "output_type": "stream",
     "text": [
      "{0: 1.0, 1: 1.0, 2: 1.0, 3: 0.9954, 4: 0.9838, 5: 0.9645, 6: 0.9377, 7: 0.9042, 8: 0.8652, 9: 0.8217, 10: 0.7752, 11: 0.7268, 12: 0.6774, 13: 0.6281, 14: 0.5795, 15: 0.5322, 16: 0.4868, 17: 0.4435, 18: 0.4027, 19: 0.3643}\n",
      "Maximum value on 0 : 1.0\n",
      "Pr on 2 six on 3 roll: 0.9954\n"
     ]
    },
    {
     "data": {
      "text/plain": [
       "Text(0.5, 1.0, 'Deterministic Dadu n Roll, k=2')"
      ]
     },
     "execution_count": 14,
     "metadata": {},
     "output_type": "execute_result"
    },
    {
     "data": {
      "image/png": "[encoded data removed]",
      "text/plain": [
       "<Figure size 432x288 with 1 Axes>"
      ]
     },
     "metadata": {
      "needs_background": "dark"
     },
     "output_type": "display_data"
    }
   ],
   "source": [
    "# deterministic + Cumulative \n",
    "\n",
    "p = 1/6\n",
    "k = 2\n",
    "dict_result = {}\n",
    "C_ = 0\n",
    "\n",
    "for n in range(20):\n",
    "    dadu_enam_1 = Binom(n, p, k) # (n, p, k=0)\n",
    "    C_ = dadu_enam_1.binom_cdf_sp()\n",
    "    dict_result[n] = round(C_,4)\n",
    "print(dict_result)\n",
    "\n",
    "key_max = max(dict_result, key=dict_result.get)\n",
    "value_max = max(dict_result.values())\n",
    "print(\"Maximum value on\",key_max, \":\", value_max)\n",
    "print(\"Pr on 2 six on 3 roll:\", dict_result[3])\n",
    "\n",
    "f_plot_bar(dict_result, 0.75, 'g')\n",
    "\n",
    "plt.ylabel('P')\n",
    "plt.xlabel('n, jumlah roll')\n",
    "plt.title('Deterministic Dadu n Roll, k={}'.format(k))"
   ]
  },
  {
   "cell_type": "code",
   "execution_count": 15,
   "metadata": {},
   "outputs": [
    {
     "name": "stdout",
     "output_type": "stream",
     "text": [
      "{0: 0.5786, 1: 0.3474, 2: 0.0692, 3: 0.0048}\n",
      "Maximum value on 0 : 0.5786\n",
      "Pr on 2 six on 3 roll: 0.0692\n"
     ]
    },
    {
     "data": {
      "text/plain": [
       "Text(0.5, 1.0, 'Stochastic Dadu 3 Roll, p=0.1667, n=19')"
      ]
     },
     "execution_count": 15,
     "metadata": {},
     "output_type": "execute_result"
    },
    {
     "data": {
      "image/png": "[encoded data removed]",
      "text/plain": [
       "<Figure size 432x288 with 1 Axes>"
      ]
     },
     "metadata": {
      "needs_background": "dark"
     },
     "output_type": "display_data"
    }
   ],
   "source": [
    "# stochastic\n",
    "\n",
    "list_die = ['one', 'two', 'three', 'four', 'five', 'six']\n",
    "\n",
    "list_result_six = []\n",
    "iteration_count = 100_000\n",
    "trials = 3\n",
    "\n",
    "for i in range(iteration_count):\n",
    "    count_trials = trials\n",
    "    list_result = []\n",
    "    counter_six = 0\n",
    "    for i in range(count_trials):\n",
    "        event = random.choice(list_die)\n",
    "        if event == 'six':\n",
    "            counter_six += 1\n",
    "    counter_non_six = count_trials - counter_six\n",
    "    list_result_six.append(counter_six)\n",
    "    # print(counter_head)\n",
    "    # print(counter_tail)\n",
    "\n",
    "# print(list_result_head)\n",
    "set_result_six = {i for i in range(trials+1)}\n",
    "dict_result_six = {}\n",
    "for i in set_result_six:\n",
    "    dict_result_six[i] = round(list_result_six.count(i)/iteration_count,4)\n",
    "print(dict_result_six)\n",
    "\n",
    "key_max = max(dict_result_six, key=dict_result_six.get)\n",
    "value_max = max(dict_result_six.values())\n",
    "print(\"Maximum value on\",key_max, \":\", value_max)\n",
    "print(\"Pr on 2 six on 3 roll:\", dict_result_six[2])\n",
    "\n",
    "f_plot_bar(dict_result_six, 0.75, 'g')\n",
    "\n",
    "plt.ylabel('P')\n",
    "plt.xlabel('k, jumlah six')\n",
    "plt.title('Stochastic Dadu 3 Roll, p={}, n={}'.format(round(p,4),n))"
   ]
  },
  {
   "cell_type": "code",
   "execution_count": 16,
   "metadata": {},
   "outputs": [
    {
     "name": "stdout",
     "output_type": "stream",
     "text": [
      "{0: 0.5797, 1: 0.9266, 2: 0.9956, 3: 1.0}\n",
      "Maximum value on 3 : 1.0\n",
      "Pr on 2 six on 3 roll: 0.9956\n"
     ]
    },
    {
     "data": {
      "text/plain": [
       "Text(0.5, 1.0, 'Stochastic Dadu 3 Roll, p=0.1667, n=19')"
      ]
     },
     "execution_count": 16,
     "metadata": {},
     "output_type": "execute_result"
    },
    {
     "data": {
      "image/png": "[encoded data removed]",
      "text/plain": [
       "<Figure size 432x288 with 1 Axes>"
      ]
     },
     "metadata": {
      "needs_background": "dark"
     },
     "output_type": "display_data"
    }
   ],
   "source": [
    "# stochastic + Cumulative\n",
    "\n",
    "list_die = ['one', 'two', 'three', 'four', 'five', 'six']\n",
    "\n",
    "list_result_six = []\n",
    "iteration_count = 100_000\n",
    "trials = 3\n",
    "\n",
    "for i in range(iteration_count):\n",
    "    count_trials = trials\n",
    "    list_result = []\n",
    "    counter_six = 0\n",
    "    for i in range(count_trials):\n",
    "        event = random.choice(list_die)\n",
    "        if event == 'six':\n",
    "            counter_six += 1\n",
    "    counter_non_six = count_trials - counter_six\n",
    "    list_result_six.append(counter_six)\n",
    "    # print(counter_head)\n",
    "    # print(counter_tail)\n",
    "\n",
    "# print(list_result_head)\n",
    "set_result_six = {i for i in range(trials+1)}\n",
    "dict_result_six = {}\n",
    "C_ = 0\n",
    "for i in set_result_six:\n",
    "    C_ += list_result_six.count(i)/iteration_count\n",
    "    dict_result_six[i] = round(C_,4)\n",
    "print(dict_result_six)\n",
    "\n",
    "key_max = max(dict_result_six, key=dict_result_six.get)\n",
    "value_max = max(dict_result_six.values())\n",
    "print(\"Maximum value on\",key_max, \":\", value_max)\n",
    "print(\"Pr on 2 six on 3 roll:\", dict_result_six[2])\n",
    "\n",
    "f_plot_bar(dict_result_six, 0.75, 'g')\n",
    "\n",
    "plt.ylabel('P')\n",
    "plt.xlabel('k, jumlah six')\n",
    "plt.title('Stochastic Dadu 3 Roll, p={}, n={}'.format(round(p,4),n))"
   ]
  },
  {
   "cell_type": "code",
   "execution_count": 17,
   "metadata": {},
   "outputs": [],
   "source": [
    "# stochastic + Cumulative <<<<<<2022.07.19"
   ]
  },
  {
   "cell_type": "markdown",
   "metadata": {},
   "source": [
    "#### Binomial count_sample = 50, success_rate = 0.95"
   ]
  },
  {
   "cell_type": "code",
   "execution_count": 18,
   "metadata": {},
   "outputs": [
    {
     "name": "stdout",
     "output_type": "stream",
     "text": [
      "Maximum value on 48 : 0.2611\n"
     ]
    },
    {
     "data": {
      "text/plain": [
       "Text(0.5, 1.0, 'Deterministic Binomial, p=0.95, n=50')"
      ]
     },
     "execution_count": 18,
     "metadata": {},
     "output_type": "execute_result"
    },
    {
     "data": {
      "image/png": "[encoded data removed]",
      "text/plain": [
       "<Figure size 432x288 with 1 Axes>"
      ]
     },
     "metadata": {
      "needs_background": "dark"
     },
     "output_type": "display_data"
    }
   ],
   "source": [
    "# deteriministic\n",
    "\n",
    "p = 0.95\n",
    "n = 50\n",
    "dict_result = {}\n",
    "\n",
    "for k in range(n+1):\n",
    "    binom_1 = Binom(n, p, k) # (n, p, k=0)\n",
    "    dict_result[k] = round(binom_1.binom_p_hc(),4)\n",
    "# print(dict_result)\n",
    "\n",
    "key_max = max(dict_result, key=dict_result.get)\n",
    "value_max = max(dict_result.values())\n",
    "print(\"Maximum value on\",key_max, \":\", value_max)\n",
    "\n",
    "f_plot_bar(dict_result, 0.75, 'g')\n",
    "\n",
    "plt.ylabel('P')\n",
    "plt.xlabel('k')\n",
    "plt.title('Deterministic Binomial, p={}, n={}'.format(p,n))"
   ]
  },
  {
   "cell_type": "code",
   "execution_count": 19,
   "metadata": {},
   "outputs": [
    {
     "name": "stdout",
     "output_type": "stream",
     "text": [
      "Maximum value on 48 : 0.2628\n"
     ]
    },
    {
     "data": {
      "text/plain": [
       "Text(0.5, 1.0, 'Stochastic Binomial, p=0.95, n=50')"
      ]
     },
     "execution_count": 19,
     "metadata": {},
     "output_type": "execute_result"
    },
    {
     "data": {
      "image/png": "[encoded data removed]",
      "text/plain": [
       "<Figure size 432x288 with 1 Axes>"
      ]
     },
     "metadata": {
      "needs_background": "dark"
     },
     "output_type": "display_data"
    }
   ],
   "source": [
    "# stochastic\n",
    "# https://www.youtube.com/watch?v=8idr1WZ1A7Q\n",
    "\n",
    "success_rate = 0.95\n",
    "\n",
    "list_result_ok = []\n",
    "iteration_count = 100_000\n",
    "\n",
    "\n",
    "for i in range(iteration_count):\n",
    "    count_sample = 50\n",
    "    list_review = []\n",
    "    counter_ok = 0\n",
    "    counter_nok = 0\n",
    "    for i in range(count_sample):\n",
    "        review = random.random()\n",
    "        if review > success_rate:\n",
    "            counter_nok += 1\n",
    "    counter_ok = count_sample - counter_nok\n",
    "    list_result_ok.append(counter_ok)\n",
    "    # print(counter_ok)\n",
    "    # print(counter_nok)\n",
    "\n",
    "# print(list_result_ok)\n",
    "# set_result_ok = set(list_result_ok)\n",
    "set_result_ok = {i for i in range(count_sample+1)}\n",
    "dict_result_ok = {}\n",
    "for i in set_result_ok:\n",
    "    dict_result_ok[i] = round(list_result_ok.count(i)/iteration_count,4)\n",
    "# print(dict_result_ok)\n",
    "\n",
    "key_max = max(dict_result_ok, key=dict_result_ok.get)\n",
    "value_max = max(dict_result_ok.values())\n",
    "print(\"Maximum value on\",key_max, \":\", value_max)\n",
    "\n",
    "f_plot_bar(dict_result, 0.5, 'g')\n",
    "\n",
    "plt.ylabel('P')\n",
    "plt.xlabel('k')\n",
    "plt.title('Stochastic Binomial, p={}, n={}'.format(p,n))"
   ]
  },
  {
   "cell_type": "markdown",
   "metadata": {},
   "source": [
    "### Binomial PMF\n",
    "#### sample n=30, c=3, p=1%"
   ]
  },
  {
   "cell_type": "code",
   "execution_count": 20,
   "metadata": {},
   "outputs": [
    {
     "name": "stdout",
     "output_type": "stream",
     "text": [
      "Maximum value on 0.1 : 0.2361\n"
     ]
    },
    {
     "data": {
      "text/plain": [
       "Text(0.5, 1.0, 'Deterministic Binomial PMF, p=0.99, n=30')"
      ]
     },
     "execution_count": 20,
     "metadata": {},
     "output_type": "execute_result"
    },
    {
     "data": {
      "image/png": "[encoded data removed]",
      "text/plain": [
       "<Figure size 432x288 with 1 Axes>"
      ]
     },
     "metadata": {
      "needs_background": "dark"
     },
     "output_type": "display_data"
    }
   ],
   "source": [
    "n = 30\n",
    "k = 3\n",
    "range_ = 100\n",
    "dict_result = {}\n",
    "\n",
    "for p_ in range(range_):\n",
    "    p = p_/100\n",
    "    binom_simul_pmf = Binom(n, p, k)\n",
    "    dict_result[p] = round(binom_simul_pmf.binom_p_hc(),4)\n",
    "\n",
    "key_max = max(dict_result, key=dict_result.get)\n",
    "value_max = max(dict_result.values())\n",
    "print(\"Maximum value on\",key_max, \":\", value_max)\n",
    "\n",
    "f_plot_bar(dict_result, 0.01, 'g')\n",
    "\n",
    "plt.ylabel('P')\n",
    "plt.xlabel('k')\n",
    "plt.title('Deterministic Binomial PMF, p={}, n={}'.format(p,n))"
   ]
  },
  {
   "cell_type": "markdown",
   "metadata": {},
   "source": [
    "## OC Curve with Binomial Method\n",
    "https://accendoreliability.com/oc-curve-with-binomial-method/\n",
    "\n",
    "Let’s say we have lot’s of 500 units and we’re are considering using the ANSI/ASQ Z1.4 – 2008 Sampling Procedures and Tables for Inspection by Attributes S-3 inspection level and single sampling plan. It directs us to select 8 samples from each lot. The acceptance is with no defects in the sample, c=0 and reject the lot is there is one defect in the sample."
   ]
  },
  {
   "cell_type": "code",
   "execution_count": 21,
   "metadata": {},
   "outputs": [
    {
     "name": "stdout",
     "output_type": "stream",
     "text": [
      "BINOMIAL\n",
      "n: 8\n",
      "c: 0\n",
      "Maximum value on 0.0 : 1.0\n",
      "P on p=0.03: 0.7837\n",
      "P on p=0.05: 0.6634\n",
      "P on p=0.1: 0.4305\n",
      "P on p=0.3: 0.0576\n",
      "P on p=0.5: 0.0039\n",
      "P on p=0.7: 0.0001\n",
      "P on p=0.9: 0.0\n"
     ]
    },
    {
     "data": {
      "text/plain": [
       "Text(0.5, 1.0, 'binom PMF c=0, n=8')"
      ]
     },
     "execution_count": 21,
     "metadata": {},
     "output_type": "execute_result"
    },
    {
     "data": {
      "image/png": "[encoded data removed]",
      "text/plain": [
       "<Figure size 432x288 with 1 Axes>"
      ]
     },
     "metadata": {
      "needs_background": "dark"
     },
     "output_type": "display_data"
    }
   ],
   "source": [
    "k = d = 0 # k,d: jumlah defects;\n",
    "c = 0 # c: jumlah defects bisa diterima\n",
    "n = 8 # jumlah sample dari lot\n",
    "\n",
    "dict_result = {}\n",
    "\n",
    "for p_ in range(100):\n",
    "    p = p_/100\n",
    "    binom_simul_pmf = Binom(n, p, k)\n",
    "    dict_result[p] = round(binom_simul_pmf.binom_p_hc(),4)\n",
    "\n",
    "key_max = max(dict_result, key=dict_result.get)\n",
    "value_max = max(dict_result.values())\n",
    "print('BINOMIAL')\n",
    "print(\"n:\", n)\n",
    "print(\"c:\", c)\n",
    "print(\"Maximum value on\",key_max, \":\", value_max)\n",
    "print(\"P on p=0.03:\", round(dict_result[0.03],4))\n",
    "print(\"P on p=0.05:\", round(dict_result[0.05],4))\n",
    "print(\"P on p=0.1:\", round(dict_result[0.1],4))\n",
    "print(\"P on p=0.3:\", round(dict_result[0.3],4))\n",
    "print(\"P on p=0.5:\", round(dict_result[0.5],4))\n",
    "print(\"P on p=0.7:\", round(dict_result[0.7],4))\n",
    "print(\"P on p=0.9:\", round(dict_result[0.9],4))\n",
    "\n",
    "f_plot_curve(dict_result, 'g')\n",
    "plt.ylabel('P')\n",
    "plt.xlabel('p')\n",
    "plt.title('binom PMF c={}, n={}'.format(c, n))"
   ]
  },
  {
   "cell_type": "code",
   "execution_count": 22,
   "metadata": {},
   "outputs": [
    {
     "name": "stdout",
     "output_type": "stream",
     "text": [
      "BINOMIAL\n",
      "n: 8\n",
      "c: 3\n",
      "Maximum value on 0.37 : 0.2815\n",
      "P on p=0.03: 0.0013\n",
      "P on p=0.05: 0.0054\n",
      "P on p=0.1: 0.0331\n",
      "P on p=0.3: 0.2541\n",
      "P on p=0.5: 0.2188\n",
      "P on p=0.7: 0.0467\n",
      "P on p=0.9: 0.0004\n"
     ]
    },
    {
     "data": {
      "text/plain": [
       "Text(0.5, 1.0, 'binom PMF c=3, n=8')"
      ]
     },
     "execution_count": 22,
     "metadata": {},
     "output_type": "execute_result"
    },
    {
     "data": {
      "image/png": "[encoded data removed]",
      "text/plain": [
       "<Figure size 432x288 with 1 Axes>"
      ]
     },
     "metadata": {
      "needs_background": "dark"
     },
     "output_type": "display_data"
    }
   ],
   "source": [
    "c = 3 # jumlah defects bisa diterima\n",
    "n = 8 # jumlah sample dari lot\n",
    "k = c\n",
    "dict_result = {}\n",
    "\n",
    "for p_ in range(100):\n",
    "    p = p_/100\n",
    "    binom_simul_pmf = Binom(n, p, k)\n",
    "    dict_result[p] = round(binom_simul_pmf.binom_p_hc(),4)\n",
    "\n",
    "key_max = max(dict_result, key=dict_result.get)\n",
    "value_max = max(dict_result.values())\n",
    "print('BINOMIAL')\n",
    "print(\"n:\", n)\n",
    "print(\"c:\", c)\n",
    "print(\"Maximum value on\",key_max, \":\", value_max)\n",
    "print(\"P on p=0.03:\", round(dict_result[0.03],4))\n",
    "print(\"P on p=0.05:\", round(dict_result[0.05],4))\n",
    "print(\"P on p=0.1:\", round(dict_result[0.1],4))\n",
    "print(\"P on p=0.3:\", round(dict_result[0.3],4))\n",
    "print(\"P on p=0.5:\", round(dict_result[0.5],4))\n",
    "print(\"P on p=0.7:\", round(dict_result[0.7],4))\n",
    "print(\"P on p=0.9:\", round(dict_result[0.9],4))\n",
    "\n",
    "f_plot_curve(dict_result, 'g')\n",
    "plt.ylabel('P')\n",
    "plt.xlabel('p')\n",
    "plt.title('binom PMF c={}, n={}'.format(c, n))"
   ]
  },
  {
   "cell_type": "code",
   "execution_count": 23,
   "metadata": {},
   "outputs": [
    {
     "name": "stdout",
     "output_type": "stream",
     "text": [
      "BINOMIAL\n",
      "n: 8\n",
      "c: 3\n",
      "Maximum value on 0.0 : 1.0\n",
      "P on p=0.03: 0.9999\n",
      "P on p=0.05: 0.9996\n",
      "P on p=0.1: 0.995\n",
      "P on p=0.3: 0.8059\n",
      "P on p=0.5: 0.3633\n",
      "P on p=0.7: 0.058\n",
      "P on p=0.9: 0.0004\n"
     ]
    },
    {
     "data": {
      "text/plain": [
       "Text(0.5, 1.0, 'binom scipy CDF c=3, n=8')"
      ]
     },
     "execution_count": 23,
     "metadata": {},
     "output_type": "execute_result"
    },
    {
     "data": {
      "image/png": "[encoded data removed]",
      "text/plain": [
       "<Figure size 432x288 with 1 Axes>"
      ]
     },
     "metadata": {
      "needs_background": "dark"
     },
     "output_type": "display_data"
    }
   ],
   "source": [
    "c = 3 # jumlah defects bisa diterima\n",
    "n = 8 # jumlah sample dari lot\n",
    "k = c\n",
    "dict_result = {}\n",
    "\n",
    "for p_ in range(100):\n",
    "    p = p_/100\n",
    "    binom_simul_cdf = Binom(n, p, k) # Binom(n, p, k)\n",
    "    dict_result[p] = round(binom_simul_cdf.binom_cdf_sp(),4) # binom scipy\n",
    "\n",
    "key_max = max(dict_result, key=dict_result.get)\n",
    "value_max = max(dict_result.values())\n",
    "print('BINOMIAL')\n",
    "print(\"n:\", n)\n",
    "print(\"c:\", c)\n",
    "print(\"Maximum value on\",key_max, \":\", value_max)\n",
    "print(\"P on p=0.03:\", round(dict_result[0.03],4))\n",
    "print(\"P on p=0.05:\", round(dict_result[0.05],4))\n",
    "print(\"P on p=0.1:\", round(dict_result[0.1],4))\n",
    "print(\"P on p=0.3:\", round(dict_result[0.3],4))\n",
    "print(\"P on p=0.5:\", round(dict_result[0.5],4))\n",
    "print(\"P on p=0.7:\", round(dict_result[0.7],4))\n",
    "print(\"P on p=0.9:\", round(dict_result[0.9],4))\n",
    "\n",
    "f_plot_curve(dict_result, 'g')\n",
    "plt.ylabel('P')\n",
    "plt.xlabel('p')\n",
    "plt.title('binom scipy CDF c={}, n={}'.format(c, n))"
   ]
  },
  {
   "cell_type": "code",
   "execution_count": 24,
   "metadata": {},
   "outputs": [
    {
     "name": "stdout",
     "output_type": "stream",
     "text": [
      "P on p=0.05: 0.6634\n",
      "P on p=0.05: 0.9428\n",
      "P on p=0.05: 0.9942\n"
     ]
    },
    {
     "data": {
      "text/plain": [
       "Text(0.5, 1.0, 'binom scipy CDF, w/ number of samples n=8')"
      ]
     },
     "execution_count": 24,
     "metadata": {},
     "output_type": "execute_result"
    },
    {
     "data": {
      "image/png": "[encoded data removed]",
      "text/plain": [
       "<Figure size 432x288 with 1 Axes>"
      ]
     },
     "metadata": {
      "needs_background": "dark"
     },
     "output_type": "display_data"
    }
   ],
   "source": [
    "# c = 3 # jumlah defects bisa diterima\n",
    "n = 8 # jumlah sample dari lot\n",
    "k = c # jumlah defects bisa diterima\n",
    "\n",
    "list_collection = []\n",
    "list_legend = []\n",
    "# color = iter(cm.rainbow(np.linspace(0, 1, n)))\n",
    "color_list = ['r', 'g', 'b', 'y']\n",
    "color_iter = iter(color_list)\n",
    "\n",
    "for k in range (3):\n",
    "    dict_result = {}\n",
    "    for p_ in range(100):\n",
    "        p = p_/100\n",
    "        binom_simul_cdf = Binom(n, p, k) # Binom(n, p, k)\n",
    "        dict_result[p] = round(binom_simul_cdf.binom_cdf_sp(),4)\n",
    "\n",
    "    key_max = max(dict_result, key=dict_result.get)\n",
    "    value_max = max(dict_result.values())\n",
    "    # print('BINOMIAL')\n",
    "    # print(\"n:\", n)\n",
    "    # print(\"k:\", k)\n",
    "    # print(\"Maximum value on\",key_max, \":\", value_max)\n",
    "    # print(\"P on p=0.03:\", round(dict_result[0.03],4))\n",
    "    print(\"P on p=0.05:\", round(dict_result[0.05],4))\n",
    "    # print(\"P on p=0.1:\", round(dict_result[0.1],4))\n",
    "    # print(\"P on p=0.2:\", round(dict_result[0.2],4))\n",
    "    # print(\"P on p=0.3:\", round(dict_result[0.3],4))\n",
    "    # print(\"P on p=0.5:\", round(dict_result[0.5],4))\n",
    "    # print(\"P on p=0.7:\", round(dict_result[0.7],4))\n",
    "    # print(\"P on p=0.9:\", round(dict_result[0.9],4))\n",
    "    col = next(color_iter)\n",
    "    plt.plot(dict_result.keys(), dict_result.values(), color=col, label = k)\n",
    "    list_legend.append('accept number, k='+str(k))\n",
    "\n",
    "line_x = [0.05, 0.05]\n",
    "line_y = [0.0, 1.0]\n",
    "\n",
    "plt.plot(line_x, line_y, '--', color='grey', linewidth=1)    \n",
    "plt.legend(list_legend)\n",
    "plt.ylabel('Probability of Accepting The Lot, Pa')\n",
    "plt.xlabel('Lot Defect Rate, Pd')\n",
    "plt.title('binom scipy CDF, w/ number of samples n={}'.format(n))\n"
   ]
  },
  {
   "cell_type": "code",
   "execution_count": 25,
   "metadata": {},
   "outputs": [
    {
     "name": "stdout",
     "output_type": "stream",
     "text": [
      "BINOMIAL\n",
      "n: 50\n",
      "k: 0\n",
      "Maximum value on 0.0 : 1.0\n",
      "P on p=0.015: 0.4697\n",
      "P on p=0.05: 0.0769\n",
      "P on p=0.1: 0.0052\n",
      "P on p=0.2: 0.0\n"
     ]
    },
    {
     "data": {
      "text/plain": [
       "Text(0.5, 1.0, 'binom scipy CDF, w/ accept number k=0')"
      ]
     },
     "execution_count": 25,
     "metadata": {},
     "output_type": "execute_result"
    },
    {
     "data": {
      "image/png": "[encoded data removed]",
      "text/plain": [
       "<Figure size 432x288 with 1 Axes>"
      ]
     },
     "metadata": {
      "needs_background": "dark"
     },
     "output_type": "display_data"
    }
   ],
   "source": [
    "# https://accendoreliability.com/how-to-read-an-oc-curve/\n",
    "# c = 3 # jumlah defects bisa diterima\n",
    "# n = 8 # jumlah sample dari lot\n",
    "k = 0 # jumlah defects bisa diterima\n",
    "\n",
    "list_collection = []\n",
    "list_legend = []\n",
    "# color = iter(cm.rainbow(np.linspace(0, 1, n)))\n",
    "color_list = ['r', 'g', 'b', 'y']\n",
    "color_iter = iter(color_list)\n",
    "\n",
    "for n in [50]:\n",
    "    dict_result = {}\n",
    "    for p_ in range(201):\n",
    "        p = p_/1000\n",
    "        binom_simul_cdf = Binom(n, p, k) # Binom(n, p, k)\n",
    "        dict_result[p] = round(binom_simul_cdf.binom_cdf_sp(),4)\n",
    "\n",
    "    key_max = max(dict_result, key=dict_result.get)\n",
    "    value_max = max(dict_result.values())\n",
    "    print('BINOMIAL')\n",
    "    print(\"n:\", n)\n",
    "    print(\"k:\", k)\n",
    "    print(\"Maximum value on\",key_max, \":\", value_max)\n",
    "    print(\"P on p=0.015:\", round(dict_result[0.015],4))\n",
    "    print(\"P on p=0.05:\", round(dict_result[0.05],4))\n",
    "    print(\"P on p=0.1:\", round(dict_result[0.1],4))\n",
    "    print(\"P on p=0.2:\", round(dict_result[0.2],4))\n",
    "    # print(\"P on p=0.3:\", round(dict_result[0.3],4))\n",
    "    # print(\"P on p=0.5:\", round(dict_result[0.5],4))\n",
    "    # print(\"P on p=0.7:\", round(dict_result[0.7],4))\n",
    "    # print(\"P on p=0.9:\", round(dict_result[0.9],4))\n",
    "    col = next(color_iter)\n",
    "    plt.plot(dict_result.keys(), dict_result.values(), color=col, label = k)\n",
    "    list_legend.append('number of samples, n='+str(n))\n",
    "\n",
    "line_x = [0.015, 0.015]\n",
    "line_y = [0.0, 1.0]\n",
    "\n",
    "plt.plot(line_x, line_y, '--', color='grey', linewidth=1)    \n",
    "plt.legend(list_legend)\n",
    "plt.ylabel('Probability of Accepting The Lot, Pa')\n",
    "plt.xlabel('Lot Defect Rate, Pd')\n",
    "plt.title('binom scipy CDF, w/ accept number k={}'.format(k))\n"
   ]
  },
  {
   "cell_type": "code",
   "execution_count": 26,
   "metadata": {},
   "outputs": [
    {
     "name": "stdout",
     "output_type": "stream",
     "text": [
      "P on p=0.05: 0.8145\n",
      "P on p=0.05: 0.7351\n",
      "P on p=0.05: 0.6634\n",
      "P on p=0.05: 0.5987\n"
     ]
    },
    {
     "data": {
      "text/plain": [
       "Text(0.5, 1.0, 'binom scipy CDF, w/ accept number k=0')"
      ]
     },
     "execution_count": 26,
     "metadata": {},
     "output_type": "execute_result"
    },
    {
     "data": {
      "image/png": "[encoded data removed]",
      "text/plain": [
       "<Figure size 432x288 with 1 Axes>"
      ]
     },
     "metadata": {
      "needs_background": "dark"
     },
     "output_type": "display_data"
    }
   ],
   "source": [
    "# c = 3 # jumlah defects bisa diterima\n",
    "# n = 8 # jumlah sample dari lot\n",
    "k = 0 # jumlah defects bisa diterima\n",
    "\n",
    "list_collection = []\n",
    "list_legend = []\n",
    "# color = iter(cm.rainbow(np.linspace(0, 1, n)))\n",
    "color_list = ['r', 'g', 'b', 'y']\n",
    "color_iter = iter(color_list)\n",
    "\n",
    "for n in [4,6,8,10]:\n",
    "    dict_result = {}\n",
    "    for p_ in range(100):\n",
    "        p = p_/100\n",
    "        binom_simul_cdf = Binom(n, p, k) # Binom(n, p, k)\n",
    "        dict_result[p] = round(binom_simul_cdf.binom_cdf_sp(),4)\n",
    "\n",
    "    key_max = max(dict_result, key=dict_result.get)\n",
    "    value_max = max(dict_result.values())\n",
    "    # print('BINOMIAL')\n",
    "    # print(\"n:\", n)\n",
    "    # print(\"k:\", k)\n",
    "    # print(\"Maximum value on\",key_max, \":\", value_max)\n",
    "    # print(\"P on p=0.03:\", round(dict_result[0.03],4))\n",
    "    print(\"P on p=0.05:\", round(dict_result[0.05],4))\n",
    "    # print(\"P on p=0.1:\", round(dict_result[0.1],4))\n",
    "    # print(\"P on p=0.2:\", round(dict_result[0.2],4))\n",
    "    # print(\"P on p=0.3:\", round(dict_result[0.3],4))\n",
    "    # print(\"P on p=0.5:\", round(dict_result[0.5],4))\n",
    "    # print(\"P on p=0.7:\", round(dict_result[0.7],4))\n",
    "    # print(\"P on p=0.9:\", round(dict_result[0.9],4))\n",
    "    col = next(color_iter)\n",
    "    plt.plot(dict_result.keys(), dict_result.values(), color=col, label = k)\n",
    "    list_legend.append('number of samples, n='+str(n))\n",
    "\n",
    "line_x = [0.05, 0.05]\n",
    "line_y = [0.0, 1.0]\n",
    "\n",
    "plt.plot(line_x, line_y, '--', color='grey', linewidth=1)    \n",
    "plt.legend(list_legend)\n",
    "plt.ylabel('Probability of Accepting The Lot, Pa')\n",
    "plt.xlabel('Lot Defect Rate, Pd')\n",
    "plt.title('binom scipy CDF, w/ accept number k={}'.format(k))\n"
   ]
  },
  {
   "cell_type": "code",
   "execution_count": 27,
   "metadata": {},
   "outputs": [
    {
     "name": "stdout",
     "output_type": "stream",
     "text": [
      "0.6634\n",
      "0.6634\n",
      "0.2793\n",
      "0.9427\n",
      "0.0515\n",
      "0.9942\n",
      "\n",
      "0.9942\n",
      "\n",
      "0.6634\n",
      "0.6634\n"
     ]
    }
   ],
   "source": [
    "# c = 3 # jumlah defects bisa diterima\n",
    "n = 8 # jumlah sample dari lot\n",
    "k = c # jumlah defects bisa diterima\n",
    "\n",
    "# Cumulative Density berdasrkan penambahan Probability Mass Function Scipy k=0,1,2\n",
    "Pa = 0\n",
    "for k in range(3):\n",
    "    p = 0.05\n",
    "    binom_simul = Binom(n, p, k) # Binom(n, p, k)\n",
    "    print(round(binom_simul.binom_p_sp(),4))\n",
    "    Pa += round(binom_simul.binom_p_sp(),4)\n",
    "    print(Pa)\n",
    "\n",
    "print('')\n",
    "\n",
    "# Cumulative Density Function Scipy n=8, p=0,05, k=2\n",
    "Pa = 0\n",
    "binom_simul = Binom(n=8, p=0.05, k=2) # Binom(n, p, k)\n",
    "Pa = binom_simul.binom_cdf_sp()\n",
    "print(round(Pa,4))\n",
    "print('')\n",
    "\n",
    "\n",
    "# Probability Mass Function\n",
    "n, p, k = 8, 0.05, 0\n",
    "binom_simul = Binom(n, p, k) # Binom(n, p, k)\n",
    "Pa = round(binom_simul.binom_p_sp(),4)\n",
    "Pb = round(binom.pmf(k, n, p),4)\n",
    "print(Pa)\n",
    "print(Pb)\n"
   ]
  },
  {
   "cell_type": "markdown",
   "metadata": {},
   "source": [
    "# Poisson Distribution"
   ]
  },
  {
   "cell_type": "code",
   "execution_count": 28,
   "metadata": {},
   "outputs": [],
   "source": [
    "# deterministic poisson PMF\n",
    "# https://en.wikipedia.org/wiki/Poisson_distribution\n",
    "# https://en.wikipedia.org/wiki/Floor_and_ceiling_functions\n",
    "\n",
    "from math import factorial\n",
    "\n",
    "\n",
    "class Poisson:\n",
    "    def __init__(self, k, lambda_):\n",
    "        self.k = k\n",
    "        self.lambda_ = lambda_\n",
    "    \n",
    "    def poisson_p_hc(self):\n",
    "        self.P_hc = self.lambda_**k * math.exp(-self.lambda_) / math.factorial(self.k)\n",
    "        return self.P_hc\n",
    "    \n",
    "    def poisson_c_hc(self):\n",
    "        self.sum_ = 0\n",
    "        for i in range(math.floor(self.k)):\n",
    "            self.sum_ += self.lambda_**i / math.factorial(i) \n",
    "        self.C_hc = math.exp(-self.lambda_)*self.sum_\n",
    "        return self.C_hc\n",
    "    \n",
    "    def poisson_p_sp(self):\n",
    "        self.P_sp = poisson.pmf(self.k, self.lambda_) # poisson.pmf(k, mu, loc)\n",
    "        return self.P_sp\n",
    "    \n",
    "    def poisson_c_sp(self):\n",
    "        self.C_sp = poisson.cdf(self.k, self.lambda_) # poisson.cdf(k, mu, loc)\n",
    "        return self.C_sp"
   ]
  },
  {
   "cell_type": "code",
   "execution_count": 29,
   "metadata": {},
   "outputs": [
    {
     "name": "stdout",
     "output_type": "stream",
     "text": [
      "Maximum value on 3 : 0.1954\n",
      "P on 7: 0.0595\n"
     ]
    },
    {
     "data": {
      "text/plain": [
       "Text(0.5, 1.0, 'Poisson PMF, w/ Avg Questions, lambda=4')"
      ]
     },
     "execution_count": 29,
     "metadata": {},
     "output_type": "execute_result"
    },
    {
     "data": {
      "image/png": "[encoded data removed]",
      "text/plain": [
       "<Figure size 432x288 with 1 Axes>"
      ]
     },
     "metadata": {
      "needs_background": "dark"
     },
     "output_type": "display_data"
    }
   ],
   "source": [
    "# https://www.youtube.com/watch?v=BbLfV0wOeyc\n",
    "# average daily questions = 4\n",
    "# how likely to have 7 questions\n",
    "\n",
    "# deterministic\n",
    "lambda_ = 4\n",
    "\n",
    "dict_result = {}\n",
    "for k in range(10):\n",
    "    poisson_1_hc = Poisson(k, lambda_)\n",
    "    dict_result[k] = round(poisson_1_hc.poisson_p_hc(),4)\n",
    "# print(dict_result)\n",
    "key_max = max(dict_result, key=dict_result.get)\n",
    "value_max = max(dict_result.values())\n",
    "print(\"Maximum value on\",key_max, \":\", value_max)\n",
    "print(\"P on 7:\", dict_result[7])\n",
    "\n",
    "f_plot_bar(dict_result, 0.5, 'b')\n",
    "plt.ylabel('Probability of Having k Questions')\n",
    "plt.xlabel('Number of Question Variations, k')\n",
    "plt.title('Poisson PMF, w/ Avg Questions, lambda={}'.format(lambda_))"
   ]
  },
  {
   "cell_type": "code",
   "execution_count": 30,
   "metadata": {},
   "outputs": [
    {
     "name": "stdout",
     "output_type": "stream",
     "text": [
      "Maximum value on 9 : 0.9919\n",
      "P on 7: 0.9489\n"
     ]
    },
    {
     "data": {
      "text/plain": [
       "Text(0.5, 1.0, 'Poisson CDF, w/ Avg Questions, lambda=4')"
      ]
     },
     "execution_count": 30,
     "metadata": {},
     "output_type": "execute_result"
    },
    {
     "data": {
      "image/png": "[encoded data removed]",
      "text/plain": [
       "<Figure size 432x288 with 1 Axes>"
      ]
     },
     "metadata": {
      "needs_background": "dark"
     },
     "output_type": "display_data"
    }
   ],
   "source": [
    "# https://www.youtube.com/watch?v=BbLfV0wOeyc\n",
    "# average daily questions = 4\n",
    "# how likely to have 7 questions\n",
    "\n",
    "# deterministic\n",
    "lambda_ = 4\n",
    "\n",
    "dict_result = {}\n",
    "for k in range(10):\n",
    "    poisson_c_sp = Poisson(k, lambda_)\n",
    "    dict_result[k] = round(poisson_c_sp.poisson_c_sp(),4)\n",
    "# print(dict_result)\n",
    "key_max = max(dict_result, key=dict_result.get)\n",
    "value_max = max(dict_result.values())\n",
    "print(\"Maximum value on\",key_max, \":\", value_max)\n",
    "print(\"P on 7:\", dict_result[7])\n",
    "\n",
    "f_plot_bar(dict_result, 0.5, 'b')\n",
    "plt.ylabel('Probability of Having k Questions')\n",
    "plt.xlabel('Number of Question Variations, k')\n",
    "plt.title('Poisson CDF, w/ Avg Questions, lambda={}'.format(lambda_))"
   ]
  },
  {
   "cell_type": "code",
   "execution_count": 31,
   "metadata": {},
   "outputs": [
    {
     "name": "stdout",
     "output_type": "stream",
     "text": [
      "Maximum value on 0 : 1.0\n",
      "P on lambda_=4: 0.9489\n"
     ]
    },
    {
     "data": {
      "text/plain": [
       "Text(0.5, 1.0, 'Poisson CDF, w/ Number of Questions, k=7')"
      ]
     },
     "execution_count": 31,
     "metadata": {},
     "output_type": "execute_result"
    },
    {
     "data": {
      "image/png": "[encoded data removed]",
      "text/plain": [
       "<Figure size 432x288 with 1 Axes>"
      ]
     },
     "metadata": {
      "needs_background": "dark"
     },
     "output_type": "display_data"
    }
   ],
   "source": [
    "# https://www.youtube.com/watch?v=BbLfV0wOeyc\n",
    "# average daily questions = lambda_\n",
    "# how likely to have 0 questions\n",
    "\n",
    "# deterministic\n",
    "k = 7\n",
    "\n",
    "dict_result = {}\n",
    "for lambda_ in range(20):\n",
    "    poisson_c_sp = Poisson(k, lambda_)\n",
    "    dict_result[lambda_] = round(poisson_c_sp.poisson_c_sp(),4)\n",
    "# print(dict_result)\n",
    "key_max = max(dict_result, key=dict_result.get)\n",
    "value_max = max(dict_result.values())\n",
    "print(\"Maximum value on\",key_max, \":\", value_max)\n",
    "print(\"P on lambda_=4:\", dict_result[4])\n",
    "\n",
    "f_plot_bar(dict_result, 0.5, 'b')\n",
    "plt.ylabel('Probability of Having k=0 Questions')\n",
    "plt.xlabel('Average Daily Question Variations, lambda_')\n",
    "plt.title('Poisson CDF, w/ Number of Questions, k={}'.format(k))"
   ]
  },
  {
   "cell_type": "markdown",
   "metadata": {},
   "source": [
    "# OC Curve with Poisson Method"
   ]
  },
  {
   "cell_type": "code",
   "execution_count": 32,
   "metadata": {},
   "outputs": [
    {
     "name": "stdout",
     "output_type": "stream",
     "text": [
      "POISSON\n",
      "n: 8\n",
      "c: 0\n",
      "Maximum value on 0.0 : 1.0\n",
      "P on p=0.03: 0.7866\n",
      "P on p=0.05: 0.6703\n",
      "P on p=0.1: 0.4493\n",
      "P on p=0.3: 0.0907\n",
      "P on p=0.5: 0.0183\n",
      "P on p=0.7: 0.0037\n",
      "P on p=0.9: 0.0007\n"
     ]
    },
    {
     "data": {
      "text/plain": [
       "Text(0.5, 1.0, 'poisson PMF c=0, n=8')"
      ]
     },
     "execution_count": 32,
     "metadata": {},
     "output_type": "execute_result"
    },
    {
     "data": {
      "image/png": "[encoded data removed]",
      "text/plain": [
       "<Figure size 432x288 with 1 Axes>"
      ]
     },
     "metadata": {
      "needs_background": "dark"
     },
     "output_type": "display_data"
    }
   ],
   "source": [
    "# http://myplace.frontier.com/~stevebrainerd1/STATISTICS/ECE-580-DOE%20WEEK%203_files/class2_oc_curve.pdf\n",
    "\n",
    "# deterministic\n",
    "n = 8 # jumlah sample dari lot\n",
    "c = k = x = 0 # jumlah defects bisa diterima\n",
    "\n",
    "dict_result = {}\n",
    "for p_ in range(100):\n",
    "    p = p_/100\n",
    "    lambda_ = n*p\n",
    "    poisson_2_hc = Poisson(k, lambda_)\n",
    "    P = round(poisson_2_hc.poisson_p_hc(),4)\n",
    "    dict_result[p] = P\n",
    "\n",
    "key_max = max(dict_result, key=dict_result.get)\n",
    "value_max = max(dict_result.values())\n",
    "print('POISSON')\n",
    "print(\"n:\", n)\n",
    "print(\"c:\", c)\n",
    "print(\"Maximum value on\",key_max, \":\", value_max)\n",
    "print(\"P on p=0.03:\", round(dict_result[0.03],4))\n",
    "print(\"P on p=0.05:\", round(dict_result[0.05],4))\n",
    "print(\"P on p=0.1:\", round(dict_result[0.1],4))\n",
    "print(\"P on p=0.3:\", round(dict_result[0.3],4))\n",
    "print(\"P on p=0.5:\", round(dict_result[0.5],4))\n",
    "print(\"P on p=0.7:\", round(dict_result[0.7],4))\n",
    "print(\"P on p=0.9:\", round(dict_result[0.9],4))\n",
    "\n",
    "# plt.bar(dict_result.keys(), dict_result.values(), width=.01, color='b')\n",
    "plt.plot(dict_result.keys(), dict_result.values(), color='b')\n",
    "plt.title('poisson PMF c={}, n={}'.format(c, n))\n"
   ]
  },
  {
   "cell_type": "code",
   "execution_count": 33,
   "metadata": {},
   "outputs": [
    {
     "name": "stdout",
     "output_type": "stream",
     "text": [
      "POISSON\n",
      "n: 8\n",
      "c: 3\n",
      "Maximum value on 0.37 : 0.224\n",
      "P on p=0.03: 0.0018\n",
      "P on p=0.05: 0.0072\n",
      "P on p=0.1: 0.0383\n",
      "P on p=0.3: 0.209\n",
      "P on p=0.5: 0.1954\n",
      "P on p=0.7: 0.1082\n",
      "P on p=0.9: 0.0464\n"
     ]
    },
    {
     "data": {
      "text/plain": [
       "Text(0.5, 1.0, 'poisson PMF c=3, n=8')"
      ]
     },
     "execution_count": 33,
     "metadata": {},
     "output_type": "execute_result"
    },
    {
     "data": {
      "image/png": "[encoded data removed]",
      "text/plain": [
       "<Figure size 432x288 with 1 Axes>"
      ]
     },
     "metadata": {
      "needs_background": "dark"
     },
     "output_type": "display_data"
    }
   ],
   "source": [
    "# http://myplace.frontier.com/~stevebrainerd1/STATISTICS/ECE-580-DOE%20WEEK%203_files/class2_oc_curve.pdf\n",
    "\n",
    "# deterministic\n",
    "n = 8 # jumlah sample dari lot\n",
    "c = k = x = 3 # jumlah defects bisa diterima\n",
    "\n",
    "dict_result = {}\n",
    "for p_ in range(100):\n",
    "    p = p_/100\n",
    "    lambda_ = n*p\n",
    "    poisson_2_hc = Poisson(k, lambda_) # poisson.pmf(x, mu)\n",
    "    P = round(poisson_2_hc.poisson_p_hc(),4)\n",
    "    dict_result[p] = P\n",
    "\n",
    "key_max = max(dict_result, key=dict_result.get)\n",
    "value_max = max(dict_result.values())\n",
    "print('POISSON')\n",
    "print(\"n:\", n)\n",
    "print(\"c:\", c)\n",
    "print(\"Maximum value on\",key_max, \":\", value_max)\n",
    "print(\"P on p=0.03:\", round(dict_result[0.03],4))\n",
    "print(\"P on p=0.05:\", round(dict_result[0.05],4))\n",
    "print(\"P on p=0.1:\", round(dict_result[0.1],4))\n",
    "print(\"P on p=0.3:\", round(dict_result[0.3],4))\n",
    "print(\"P on p=0.5:\", round(dict_result[0.5],4))\n",
    "print(\"P on p=0.7:\", round(dict_result[0.7],4))\n",
    "print(\"P on p=0.9:\", round(dict_result[0.9],4))\n",
    "\n",
    "# plt.bar(dict_result.keys(), dict_result.values(), width=.01, color='b')\n",
    "plt.plot(dict_result.keys(), dict_result.values(), color='b')\n",
    "plt.title('poisson PMF c={}, n={}'.format(c, n))\n"
   ]
  },
  {
   "cell_type": "code",
   "execution_count": 34,
   "metadata": {},
   "outputs": [
    {
     "name": "stdout",
     "output_type": "stream",
     "text": [
      "POISSON\n",
      "n: 8\n",
      "c: 3\n",
      "Maximum value on 0.0 : 1.0\n",
      "P on p=0.03: 0.9999\n",
      "P on p=0.05: 0.9992\n",
      "P on p=0.1: 0.9909\n",
      "P on p=0.3: 0.7787\n",
      "P on p=0.5: 0.4335\n",
      "P on p=0.7: 0.1906\n",
      "P on p=0.9: 0.0719\n"
     ]
    },
    {
     "data": {
      "text/plain": [
       "Text(0.5, 1.0, 'poisson CDF c=3, n=8')"
      ]
     },
     "execution_count": 34,
     "metadata": {},
     "output_type": "execute_result"
    },
    {
     "data": {
      "image/png": "[encoded data removed]",
      "text/plain": [
       "<Figure size 432x288 with 1 Axes>"
      ]
     },
     "metadata": {
      "needs_background": "dark"
     },
     "output_type": "display_data"
    }
   ],
   "source": [
    "# http://myplace.frontier.com/~stevebrainerd1/STATISTICS/ECE-580-DOE%20WEEK%203_files/class2_oc_curve.pdf\n",
    "\n",
    "# deterministic\n",
    "n = 8 # jumlah sample dari lot\n",
    "c = k = x = 3 # jumlah defects bisa diterima\n",
    "\n",
    "dict_result = {}\n",
    "for p_ in range(100):\n",
    "    p = p_/100\n",
    "    lambda_ = n*p\n",
    "    poisson_2_hc = Poisson(k, lambda_) # poisson.pmf(x, mu)\n",
    "    P = round(poisson_2_hc.poisson_c_sp(),4)\n",
    "    dict_result[p] = P\n",
    "\n",
    "key_max = max(dict_result, key=dict_result.get)\n",
    "value_max = max(dict_result.values())\n",
    "print('POISSON')\n",
    "print(\"n:\", n)\n",
    "print(\"c:\", c)\n",
    "print(\"Maximum value on\",key_max, \":\", value_max)\n",
    "print(\"P on p=0.03:\", round(dict_result[0.03],4))\n",
    "print(\"P on p=0.05:\", round(dict_result[0.05],4))\n",
    "print(\"P on p=0.1:\", round(dict_result[0.1],4))\n",
    "print(\"P on p=0.3:\", round(dict_result[0.3],4))\n",
    "print(\"P on p=0.5:\", round(dict_result[0.5],4))\n",
    "print(\"P on p=0.7:\", round(dict_result[0.7],4))\n",
    "print(\"P on p=0.9:\", round(dict_result[0.9],4))\n",
    "\n",
    "# plt.bar(dict_result.keys(), dict_result.values(), width=.01, color='b')\n",
    "plt.plot(dict_result.keys(), dict_result.values(), color='b')\n",
    "plt.title('poisson CDF c={}, n={}'.format(c, n))\n"
   ]
  },
  {
   "cell_type": "code",
   "execution_count": 35,
   "metadata": {},
   "outputs": [
    {
     "name": "stdout",
     "output_type": "stream",
     "text": [
      "POISSON\n",
      "n: 8\n",
      "c: 3\n",
      "Maximum value on 0.0 : 1.0\n",
      "P on p=0.03: 0.9981\n",
      "P on p=0.05: 0.9921\n",
      "P on p=0.1: 0.9526\n",
      "P on p=0.3: 0.5697\n",
      "P on p=0.5: 0.2381\n",
      "P on p=0.7: 0.0824\n",
      "P on p=0.9: 0.0255\n"
     ]
    },
    {
     "data": {
      "text/plain": [
       "Text(0.5, 1.0, 'poisson CDF c=3, n=8')"
      ]
     },
     "execution_count": 35,
     "metadata": {},
     "output_type": "execute_result"
    },
    {
     "data": {
      "image/png": "[encoded data removed]",
      "text/plain": [
       "<Figure size 432x288 with 1 Axes>"
      ]
     },
     "metadata": {
      "needs_background": "dark"
     },
     "output_type": "display_data"
    }
   ],
   "source": [
    "# http://myplace.frontier.com/~stevebrainerd1/STATISTICS/ECE-580-DOE%20WEEK%203_files/class2_oc_curve.pdf\n",
    "\n",
    "# deterministic\n",
    "n = 8 # jumlah sample dari lot\n",
    "c = k = x = 3 # jumlah defects bisa diterima\n",
    "\n",
    "dict_result = {}\n",
    "for p_ in range(100):\n",
    "    p = p_/100\n",
    "    lambda_ = n*p\n",
    "    poisson_2_hc = Poisson(k, lambda_) # poisson.pmf(x, mu)\n",
    "    P = round(poisson_2_hc.poisson_c_hc(),4)\n",
    "    dict_result[p] = P\n",
    "\n",
    "key_max = max(dict_result, key=dict_result.get)\n",
    "value_max = max(dict_result.values())\n",
    "print('POISSON')\n",
    "print(\"n:\", n)\n",
    "print(\"c:\", c)\n",
    "print(\"Maximum value on\",key_max, \":\", value_max)\n",
    "print(\"P on p=0.03:\", round(dict_result[0.03],4))\n",
    "print(\"P on p=0.05:\", round(dict_result[0.05],4))\n",
    "print(\"P on p=0.1:\", round(dict_result[0.1],4))\n",
    "print(\"P on p=0.3:\", round(dict_result[0.3],4))\n",
    "print(\"P on p=0.5:\", round(dict_result[0.5],4))\n",
    "print(\"P on p=0.7:\", round(dict_result[0.7],4))\n",
    "print(\"P on p=0.9:\", round(dict_result[0.9],4))\n",
    "\n",
    "# plt.bar(dict_result.keys(), dict_result.values(), width=.01, color='b')\n",
    "plt.plot(dict_result.keys(), dict_result.values(), color='b')\n",
    "plt.title('poisson CDF c={}, n={}'.format(c, n))\n"
   ]
  },
  {
   "cell_type": "markdown",
   "metadata": {},
   "source": [
    "# How to Read an OC curve\n",
    "https://accendoreliability.com/how-to-read-an-oc-curve/"
   ]
  },
  {
   "cell_type": "code",
   "execution_count": 36,
   "metadata": {},
   "outputs": [
    {
     "name": "stdout",
     "output_type": "stream",
     "text": [
      "POISSON\n",
      "n: 50\n",
      "c: 0\n",
      "Maximum value on 0.0 : 1.0\n",
      "P on p=0.005: 0.7788\n",
      "P on p=0.010: 0.6065\n",
      "P on p=0.015: 0.4724\n",
      "P on p=0.020: 0.3679\n",
      "P on p=0.05: 0.0821\n",
      "P on p=0.1: 0.0067\n",
      "P on p=0.15: 0.0006\n"
     ]
    },
    {
     "data": {
      "text/plain": [
       "Text(0.5, 1.0, 'poisson scipy CDF, n=50, c=0')"
      ]
     },
     "execution_count": 36,
     "metadata": {},
     "output_type": "execute_result"
    },
    {
     "data": {
      "image/png": "[encoded data removed]",
      "text/plain": [
       "<Figure size 432x288 with 1 Axes>"
      ]
     },
     "metadata": {
      "needs_background": "dark"
     },
     "output_type": "display_data"
    }
   ],
   "source": [
    "# https://accendoreliability.com/how-to-read-an-oc-curve/\n",
    "# deterministic\n",
    "n = 50 # jumlah sample dari lot\n",
    "c = k = x = 0 # jumlah defects bisa diterima\n",
    "\n",
    "dict_result = {}\n",
    "for p_ in range(200):\n",
    "    p = p_/1000\n",
    "    lambda_ = n*p\n",
    "    poisson_2_hc = Poisson(k, lambda_) # poisson.pmf(x, mu)\n",
    "    P = round(poisson_2_hc.poisson_c_sp(),4)\n",
    "    dict_result[p] = P\n",
    "\n",
    "key_max = max(dict_result, key=dict_result.get)\n",
    "value_max = max(dict_result.values())\n",
    "print('POISSON')\n",
    "print(\"n:\", n)\n",
    "print(\"c:\", c)\n",
    "print(\"Maximum value on\",key_max, \":\", value_max)\n",
    "print(\"P on p=0.005:\", round(dict_result[0.005],4))\n",
    "print(\"P on p=0.010:\", round(dict_result[0.010],4))\n",
    "print(\"P on p=0.015:\", round(dict_result[0.015],4))\n",
    "print(\"P on p=0.020:\", round(dict_result[0.020],4))\n",
    "print(\"P on p=0.05:\", round(dict_result[0.05],4))\n",
    "print(\"P on p=0.1:\", round(dict_result[0.1],4))\n",
    "print(\"P on p=0.15:\", round(dict_result[0.15],4))\n",
    "\n",
    "line_x1 = [0.01/100, 0.01/100]\n",
    "line_x2 = [0.4/100, 0.4/100]\n",
    "line_y = [0.0, 1.0]\n",
    "\n",
    "plt.plot(line_x1, line_y, '--', color='grey', linewidth=1)\n",
    "plt.plot(line_x2, line_y, '--', color='grey', linewidth=1)    \n",
    "\n",
    "# plt.bar(dict_result.keys(), dict_result.values(), width=.01, color='b')\n",
    "plt.plot(dict_result.keys(), dict_result.values(), color='b')\n",
    "plt.ylabel('Probability of Accepting The Lot, Pa')\n",
    "plt.xlabel('Lot Percent Defective, Pd')\n",
    "plt.title('poisson scipy CDF, n={}, c={}'.format(n, c))\n"
   ]
  },
  {
   "cell_type": "code",
   "execution_count": 37,
   "metadata": {},
   "outputs": [
    {
     "name": "stdout",
     "output_type": "stream",
     "text": [
      "POISSON\n",
      "n: 50\n",
      "c: 2\n",
      "Maximum value on 0.0 : 1.0\n",
      "P on p=0.005: 0.9978\n",
      "P on p=0.010: 0.9856\n",
      "P on p=0.015: 0.9595\n",
      "P on p=0.020: 0.9197\n",
      "P on p=0.05: 0.5438\n",
      "P on p=0.1: 0.1247\n",
      "P on p=0.15: 0.0203\n"
     ]
    },
    {
     "data": {
      "text/plain": [
       "Text(0.5, 1.0, 'poisson scipy CDF, n=50, c=2')"
      ]
     },
     "execution_count": 37,
     "metadata": {},
     "output_type": "execute_result"
    },
    {
     "data": {
      "image/png": "[encoded data removed]",
      "text/plain": [
       "<Figure size 432x288 with 1 Axes>"
      ]
     },
     "metadata": {
      "needs_background": "dark"
     },
     "output_type": "display_data"
    }
   ],
   "source": [
    "# https://accendoreliability.com/how-to-read-an-oc-curve/\n",
    "# deterministic\n",
    "n = 50 # jumlah sample dari lot\n",
    "c = k = x = 2 # jumlah defects bisa diterima\n",
    "\n",
    "dict_result = {}\n",
    "for p_ in range(200):\n",
    "    p = p_/1000\n",
    "    lambda_ = n*p\n",
    "    poisson_2_hc = Poisson(k, lambda_) # poisson.pmf(x, mu)\n",
    "    P = round(poisson_2_hc.poisson_c_sp(),4)\n",
    "    dict_result[p] = P\n",
    "\n",
    "key_max = max(dict_result, key=dict_result.get)\n",
    "value_max = max(dict_result.values())\n",
    "print('POISSON')\n",
    "print(\"n:\", n)\n",
    "print(\"c:\", c)\n",
    "print(\"Maximum value on\",key_max, \":\", value_max)\n",
    "print(\"P on p=0.005:\", round(dict_result[0.005],4))\n",
    "print(\"P on p=0.010:\", round(dict_result[0.010],4))\n",
    "print(\"P on p=0.015:\", round(dict_result[0.015],4))\n",
    "print(\"P on p=0.020:\", round(dict_result[0.020],4))\n",
    "print(\"P on p=0.05:\", round(dict_result[0.05],4))\n",
    "print(\"P on p=0.1:\", round(dict_result[0.1],4))\n",
    "print(\"P on p=0.15:\", round(dict_result[0.15],4))\n",
    "\n",
    "line_x1 = [0.01/100, 0.01/100]\n",
    "line_x2 = [0.4/100, 0.4/100]\n",
    "line_y = [0.0, 1.0]\n",
    "\n",
    "plt.plot(line_x1, line_y, '--', color='grey', linewidth=1)\n",
    "plt.plot(line_x2, line_y, '--', color='grey', linewidth=1)      \n",
    "\n",
    "# plt.bar(dict_result.keys(), dict_result.values(), width=.01, color='b')\n",
    "plt.plot(dict_result.keys(), dict_result.values(), color='b')\n",
    "plt.ylabel('Probability of Accepting The Lot, Pa')\n",
    "plt.xlabel('Lot Percent Defective, Pd')\n",
    "plt.title('poisson scipy CDF, n={}, c={}'.format(n, c))\n"
   ]
  },
  {
   "cell_type": "code",
   "execution_count": 38,
   "metadata": {},
   "outputs": [
    {
     "name": "stdout",
     "output_type": "stream",
     "text": [
      "POISSON\n",
      "n: 20\n",
      "c: 0\n",
      "Maximum value on 0.0 : 1.0\n"
     ]
    },
    {
     "data": {
      "text/plain": [
       "Text(0.5, 1.0, 'poisson scipy CDF, lot size=100, n=20, c=0')"
      ]
     },
     "execution_count": 38,
     "metadata": {},
     "output_type": "execute_result"
    },
    {
     "data": {
      "image/png": "[encoded data removed]",
      "text/plain": [
       "<Figure size 432x288 with 1 Axes>"
      ]
     },
     "metadata": {
      "needs_background": "dark"
     },
     "output_type": "display_data"
    }
   ],
   "source": [
    "# https://accendoreliability.com/how-to-read-an-oc-curve/\n",
    "# deterministic\n",
    "# Lot size = 100, G-II > F > 20 sample > sampai AQL <= 0.65\n",
    "\n",
    "lot_size = 100\n",
    "n = 20 # jumlah sample dari lot\n",
    "c = k = x = 0 # jumlah defects bisa diterima\n",
    "\n",
    "dict_result = {}\n",
    "for p_ in range(300):\n",
    "    p = p_/1000\n",
    "    defective_per_1k = p * lot_size\n",
    "    lambda_ = n*p\n",
    "    poisson_2_hc = Poisson(k, lambda_) # poisson.pmf(x, mu)\n",
    "    P = round(poisson_2_hc.poisson_c_sp(),4)\n",
    "    dict_result[defective_per_1k] = P\n",
    "\n",
    "key_max = max(dict_result, key=dict_result.get)\n",
    "value_max = max(dict_result.values())\n",
    "print('POISSON')\n",
    "print(\"n:\", n)\n",
    "print(\"c:\", c)\n",
    "print(\"Maximum value on\",key_max, \":\", value_max)\n",
    "# print(\"P on p=0.005:\", round(dict_result[0.005],4))\n",
    "# print(\"P on p=0.010:\", round(dict_result[0.010],4))\n",
    "# print(\"P on p=0.015:\", round(dict_result[0.015],4))\n",
    "# print(\"P on p=0.020:\", round(dict_result[0.020],4))\n",
    "# print(\"P on p=0.05:\", round(dict_result[0.05],4))\n",
    "# print(\"P on p=0.1:\", round(dict_result[0.1],4))\n",
    "# print(\"P on p=0.15:\", round(dict_result[0.15],4))\n",
    "\n",
    "line_x1 = [0.01*lot_size/100, 0.01*lot_size/100]\n",
    "line_x2 = [1*lot_size/100, 1*lot_size/100]\n",
    "line_y = [0.0, 1.0]\n",
    "\n",
    "plt.plot(line_x1, line_y, '--', color='g', linewidth=1)   \n",
    "plt.plot(line_x2, line_y, '--', color='y', linewidth=1)   \n",
    "\n",
    "# plt.bar(dict_result.keys(), dict_result.values(), width=.01, color='b')\n",
    "plt.plot(dict_result.keys(), dict_result.values(), color='b')\n",
    "plt.ylabel('Probability of Accepting The Lot, Pa')\n",
    "plt.xlabel('Defective per 1k')\n",
    "plt.title('poisson scipy CDF, lot size={}, n={}, c={}'.format(lot_size, n, c))\n"
   ]
  },
  {
   "cell_type": "markdown",
   "metadata": {},
   "source": [
    "# TEST Case PT. SMS"
   ]
  },
  {
   "cell_type": "code",
   "execution_count": 39,
   "metadata": {},
   "outputs": [
    {
     "name": "stdout",
     "output_type": "stream",
     "text": [
      "P on p=0.05: 0.8574\n",
      "P on p=0.05: 0.7351\n",
      "P on p=0.05: 0.3972\n",
      "P on p=0.05: 0.0044\n",
      "P on p=0.05: 0.6634\n"
     ]
    },
    {
     "data": {
      "text/plain": [
       "Text(0.5, 1.0, 'binom scipy CDF, w/ accept number k=0')"
      ]
     },
     "execution_count": 39,
     "metadata": {},
     "output_type": "execute_result"
    },
    {
     "data": {
      "image/png": "[encoded data removed]",
      "text/plain": [
       "<Figure size 432x288 with 1 Axes>"
      ]
     },
     "metadata": {
      "needs_background": "dark"
     },
     "output_type": "display_data"
    }
   ],
   "source": [
    "# F-B18048B Gunung Sugih Baru to Rajabasa Permai\n",
    "# BINOMIAL\n",
    "# n = jumlah sample dari lot\n",
    "k = 0 # jumlah defects bisa diterima\n",
    "\n",
    "list_collection = []\n",
    "list_legend = []\n",
    "# color = iter(cm.rainbow(np.linspace(0, 1, n)))\n",
    "color_list = ['r', 'g', 'b', 'y', 'grey']\n",
    "color_iter = iter(color_list)\n",
    "\n",
    "for n in [3,6,18,106,8]:\n",
    "    dict_result = {}\n",
    "    for p_ in range(100):\n",
    "        p = p_/100\n",
    "        binom_simul_cdf = Binom(n, p, k) # Binom(n, p, k)\n",
    "        dict_result[p] = round(binom_simul_cdf.binom_cdf_sp(),4)\n",
    "\n",
    "    key_max = max(dict_result, key=dict_result.get)\n",
    "    value_max = max(dict_result.values())\n",
    "    # print('BINOMIAL')\n",
    "    # print(\"n:\", n)\n",
    "    # print(\"k:\", k)\n",
    "    # print(\"Maximum value on\",key_max, \":\", value_max)\n",
    "    # print(\"P on p=0.03:\", round(dict_result[0.03],4))\n",
    "    print(\"P on p=0.05:\", round(dict_result[0.05],4))\n",
    "    # print(\"P on p=0.1:\", round(dict_result[0.1],4))\n",
    "    # print(\"P on p=0.2:\", round(dict_result[0.2],4))\n",
    "    # print(\"P on p=0.3:\", round(dict_result[0.3],4))\n",
    "    # print(\"P on p=0.5:\", round(dict_result[0.5],4))\n",
    "    # print(\"P on p=0.7:\", round(dict_result[0.7],4))\n",
    "    # print(\"P on p=0.9:\", round(dict_result[0.9],4))\n",
    "    col = next(color_iter)\n",
    "    plt.plot(dict_result.keys(), dict_result.values(), color=col, label = k)\n",
    "    list_legend.append('number of samples, n='+str(n))\n",
    "\n",
    "line_x = [0.05, 0.05]\n",
    "line_y = [0.0, 1.0]\n",
    "\n",
    "plt.plot(line_x, line_y, '--', color='grey', linewidth=1)    \n",
    "plt.legend(list_legend)\n",
    "plt.ylabel('Probability of Accepting The Lot, Pa')\n",
    "plt.xlabel('Lot Defect Rate, Pd')\n",
    "plt.title('binom scipy CDF, w/ accept number k={}'.format(k))\n"
   ]
  },
  {
   "cell_type": "code",
   "execution_count": 40,
   "metadata": {},
   "outputs": [
    {
     "name": "stdout",
     "output_type": "stream",
     "text": [
      "P on p=0.05: 0.8574\n",
      "P on p=0.05: 0.7738\n",
      "P on p=0.05: 0.4877\n",
      "P on p=0.05: 0.0135\n"
     ]
    },
    {
     "data": {
      "text/plain": [
       "Text(0.5, 1.0, 'binom scipy CDF, w/ accept number k=0')"
      ]
     },
     "execution_count": 40,
     "metadata": {},
     "output_type": "execute_result"
    },
    {
     "data": {
      "image/png": "[encoded data removed]",
      "text/plain": [
       "<Figure size 432x288 with 1 Axes>"
      ]
     },
     "metadata": {
      "needs_background": "dark"
     },
     "output_type": "display_data"
    }
   ],
   "source": [
    "# F-B18047B Gunung Sugih Baru to NLMP_0110\n",
    "# BINOMIAL\n",
    "# n = jumlah sample dari lot\n",
    "k = 0 # jumlah defects bisa diterima\n",
    "\n",
    "list_collection = []\n",
    "list_legend = []\n",
    "# color = iter(cm.rainbow(np.linspace(0, 1, n)))\n",
    "color_list = ['r', 'g', 'b', 'y']\n",
    "color_iter = iter(color_list)\n",
    "\n",
    "for n in [3,5,14,84]:\n",
    "    dict_result = {}\n",
    "    for p_ in range(100):\n",
    "        p = p_/100\n",
    "        binom_simul_cdf = Binom(n, p, k) # Binom(n, p, k)\n",
    "        dict_result[p] = round(binom_simul_cdf.binom_cdf_sp(),4)\n",
    "\n",
    "    key_max = max(dict_result, key=dict_result.get)\n",
    "    value_max = max(dict_result.values())\n",
    "    # print('BINOMIAL')\n",
    "    # print(\"n:\", n)\n",
    "    # print(\"k:\", k)\n",
    "    # print(\"Maximum value on\",key_max, \":\", value_max)\n",
    "    # print(\"P on p=0.03:\", round(dict_result[0.03],4))\n",
    "    print(\"P on p=0.05:\", round(dict_result[0.05],4))\n",
    "    # print(\"P on p=0.1:\", round(dict_result[0.1],4))\n",
    "    # print(\"P on p=0.2:\", round(dict_result[0.2],4))\n",
    "    # print(\"P on p=0.3:\", round(dict_result[0.3],4))\n",
    "    # print(\"P on p=0.5:\", round(dict_result[0.5],4))\n",
    "    # print(\"P on p=0.7:\", round(dict_result[0.7],4))\n",
    "    # print(\"P on p=0.9:\", round(dict_result[0.9],4))\n",
    "    col = next(color_iter)\n",
    "    plt.plot(dict_result.keys(), dict_result.values(), color=col, label = k)\n",
    "    list_legend.append('number of samples, n='+str(n))\n",
    "\n",
    "line_x = [0.05, 0.05]\n",
    "line_y = [0.0, 1.0]\n",
    "\n",
    "plt.plot(line_x, line_y, '--', color='grey', linewidth=1)    \n",
    "plt.legend(list_legend)\n",
    "plt.ylabel('Probability of Accepting The Lot, Pa')\n",
    "plt.xlabel('Lot Defect Rate, Pd')\n",
    "plt.title('binom scipy CDF, w/ accept number k={}'.format(k))\n"
   ]
  },
  {
   "cell_type": "code",
   "execution_count": 41,
   "metadata": {},
   "outputs": [
    {
     "name": "stdout",
     "output_type": "stream",
     "text": [
      "P on p=0.05: 0.8607\n",
      "P on p=0.05: 0.7408\n",
      "P on p=0.05: 0.4066\n",
      "P on p=0.05: 0.005\n"
     ]
    },
    {
     "data": {
      "text/plain": [
       "Text(0.5, 1.0, 'poisson scipy CDF, w/ accept number k=0')"
      ]
     },
     "execution_count": 41,
     "metadata": {},
     "output_type": "execute_result"
    },
    {
     "data": {
      "image/png": "[encoded data removed]",
      "text/plain": [
       "<Figure size 432x288 with 1 Axes>"
      ]
     },
     "metadata": {
      "needs_background": "dark"
     },
     "output_type": "display_data"
    }
   ],
   "source": [
    "# F-B18048B Gunung Sugih Baru to Rajabasa Permai\n",
    "# POISSON\n",
    "# n = jumlah sample dari lot\n",
    "k = 0 # jumlah defects bisa diterima\n",
    "\n",
    "list_collection = []\n",
    "list_legend = []\n",
    "# color = iter(cm.rainbow(np.linspace(0, 1, n)))\n",
    "color_list = ['r', 'g', 'b', 'y', 'grey']\n",
    "color_iter = iter(color_list)\n",
    "\n",
    "for n in [3,6,18,106]:\n",
    "    dict_result = {}\n",
    "    for p_ in range(100):\n",
    "        p = p_/100\n",
    "        lambda_ = n*p\n",
    "        poisson_2_hc = Poisson(k, lambda_) # poisson.pmf(x, mu)\n",
    "        P = round(poisson_2_hc.poisson_c_sp(),4)\n",
    "        dict_result[p] = P\n",
    "\n",
    "    key_max = max(dict_result, key=dict_result.get)\n",
    "    value_max = max(dict_result.values())\n",
    "    # print('BINOMIAL')\n",
    "    # print(\"n:\", n)\n",
    "    # print(\"k:\", k)\n",
    "    # print(\"Maximum value on\",key_max, \":\", value_max)\n",
    "    # print(\"P on p=0.03:\", round(dict_result[0.03],4))\n",
    "    print(\"P on p=0.05:\", round(dict_result[0.05],4))\n",
    "    # print(\"P on p=0.1:\", round(dict_result[0.1],4))\n",
    "    # print(\"P on p=0.2:\", round(dict_result[0.2],4))\n",
    "    # print(\"P on p=0.3:\", round(dict_result[0.3],4))\n",
    "    # print(\"P on p=0.5:\", round(dict_result[0.5],4))\n",
    "    # print(\"P on p=0.7:\", round(dict_result[0.7],4))\n",
    "    # print(\"P on p=0.9:\", round(dict_result[0.9],4))\n",
    "    col = next(color_iter)\n",
    "    plt.plot(dict_result.keys(), dict_result.values(), color=col, label = k)\n",
    "    list_legend.append('number of samples, n='+str(n))\n",
    "\n",
    "line_x = [0.05, 0.05]\n",
    "line_y = [0.0, 1.0]\n",
    "\n",
    "plt.plot(line_x, line_y, '--', color='grey', linewidth=1)    \n",
    "plt.legend(list_legend)\n",
    "plt.ylabel('Probability of Accepting The Lot, Pa')\n",
    "plt.xlabel('Lot Defect Rate, Pd')\n",
    "plt.title('poisson scipy CDF, w/ accept number k={}'.format(k))\n"
   ]
  },
  {
   "cell_type": "code",
   "execution_count": 42,
   "metadata": {},
   "outputs": [
    {
     "name": "stdout",
     "output_type": "stream",
     "text": [
      "P on p=0.05: 0.8607\n",
      "P on p=0.05: 0.7788\n",
      "P on p=0.05: 0.4966\n",
      "P on p=0.05: 0.015\n"
     ]
    },
    {
     "data": {
      "text/plain": [
       "Text(0.5, 1.0, 'poisson scipy CDF, w/ accept number k=0')"
      ]
     },
     "execution_count": 42,
     "metadata": {},
     "output_type": "execute_result"
    },
    {
     "data": {
      "image/png": "[encoded data removed]",
      "text/plain": [
       "<Figure size 432x288 with 1 Axes>"
      ]
     },
     "metadata": {
      "needs_background": "dark"
     },
     "output_type": "display_data"
    }
   ],
   "source": [
    "# F-B18047B Gunung Sugih Baru to NLMP_0110\n",
    "# POISSON\n",
    "# n = jumlah sample dari lot\n",
    "k = 0 # jumlah defects bisa diterima\n",
    "\n",
    "list_collection = []\n",
    "list_legend = []\n",
    "# color = iter(cm.rainbow(np.linspace(0, 1, n)))\n",
    "color_list = ['r', 'g', 'b', 'y', 'grey']\n",
    "color_iter = iter(color_list)\n",
    "\n",
    "for n in [3,5,14,84]:\n",
    "    dict_result = {}\n",
    "    for p_ in range(100):\n",
    "        p = p_/100\n",
    "        lambda_ = n*p\n",
    "        poisson_2_hc = Poisson(k, lambda_) # poisson.pmf(x, mu)\n",
    "        P = round(poisson_2_hc.poisson_c_sp(),4)\n",
    "        dict_result[p] = P\n",
    "\n",
    "    key_max = max(dict_result, key=dict_result.get)\n",
    "    value_max = max(dict_result.values())\n",
    "    # print('BINOMIAL')\n",
    "    # print(\"n:\", n)\n",
    "    # print(\"k:\", k)\n",
    "    # print(\"Maximum value on\",key_max, \":\", value_max)\n",
    "    # print(\"P on p=0.03:\", round(dict_result[0.03],4))\n",
    "    print(\"P on p=0.05:\", round(dict_result[0.05],4))\n",
    "    # print(\"P on p=0.1:\", round(dict_result[0.1],4))\n",
    "    # print(\"P on p=0.2:\", round(dict_result[0.2],4))\n",
    "    # print(\"P on p=0.3:\", round(dict_result[0.3],4))\n",
    "    # print(\"P on p=0.5:\", round(dict_result[0.5],4))\n",
    "    # print(\"P on p=0.7:\", round(dict_result[0.7],4))\n",
    "    # print(\"P on p=0.9:\", round(dict_result[0.9],4))\n",
    "    col = next(color_iter)\n",
    "    plt.plot(dict_result.keys(), dict_result.values(), color=col, label = k)\n",
    "    list_legend.append('number of samples, n='+str(n))\n",
    "\n",
    "line_x = [0.05, 0.05]\n",
    "line_y = [0.0, 1.0]\n",
    "\n",
    "plt.plot(line_x, line_y, '--', color='grey', linewidth=1)    \n",
    "plt.legend(list_legend)\n",
    "plt.ylabel('Probability of Accepting The Lot, Pa')\n",
    "plt.xlabel('Lot Defect Rate, Pd')\n",
    "plt.title('poisson scipy CDF, w/ accept number k={}'.format(k))\n"
   ]
  },
  {
   "cell_type": "markdown",
   "metadata": {},
   "source": [
    "# General Inspection Level: II"
   ]
  },
  {
   "cell_type": "code",
   "execution_count": 43,
   "metadata": {},
   "outputs": [
    {
     "name": "stdout",
     "output_type": "stream",
     "text": [
      "P on p=0.065: 0.963\n",
      "P on p=0.065: 0.909\n",
      "P on p=0.065: 0.952\n",
      "P on p=0.065: 0.9626\n",
      "P on p=0.065: 0.2608\n"
     ]
    },
    {
     "data": {
      "text/plain": [
       "Text(0.5, 1.0, 'binom scipy CDF')"
      ]
     },
     "execution_count": 43,
     "metadata": {},
     "output_type": "execute_result"
    },
    {
     "data": {
      "image/png": "[encoded data removed]",
      "text/plain": [
       "<Figure size 432x288 with 1 Axes>"
      ]
     },
     "metadata": {
      "needs_background": "dark"
     },
     "output_type": "display_data"
    }
   ],
   "source": [
    "# n = jumlah sample dari lot\n",
    "# k = jumlah defects bisa diterima\n",
    "\n",
    "# BINOMIAL\n",
    "\n",
    "list_sampling_plan = [[5,1], [8,1], [13,2], [20,3], [20,0]] # [n,k]\n",
    "# list_sampling_plan = [[5,1], [8,1], [13,2], [20,3]] # [n,k]\n",
    "\n",
    "list_collection = []\n",
    "list_legend = []\n",
    "dict_result = {}\n",
    "# color = iter(cm.rainbow(np.linspace(0, 1, n)))\n",
    "color_list = ['r', 'g', 'b', 'y', 'grey']\n",
    "color_iter = iter(color_list)\n",
    "\n",
    "for i in list_sampling_plan:\n",
    "    dict_result = {}\n",
    "    for p_ in range(1000):\n",
    "        p = p_/1000\n",
    "        dict_result[p] = round(binom.cdf(i[1], i[0], p),4) # binom.cdf(k, n, p)\n",
    "\n",
    "    key_max = max(dict_result, key=dict_result.get)\n",
    "    value_max = max(dict_result.values())\n",
    "    # print('BINOMIAL')\n",
    "    # print(\"n:\", n)\n",
    "    # print(\"k:\", k)\n",
    "    # print(\"Maximum value on\",key_max, \":\", value_max)\n",
    "    print(\"P on p=0.065:\", round(dict_result[0.065],4))\n",
    "    col = next(color_iter)\n",
    "    plt.plot(dict_result.keys(), dict_result.values(), color=col, label = k)\n",
    "    list_legend.append('n={}, k={}'.format(i[0], i[1]))\n",
    "\n",
    "line_x = [0.065, 0.065]\n",
    "line_y = [0.0, 1.0]\n",
    "\n",
    "# plt.plot(line_x, line_y, '--', color='grey', linewidth=1)    \n",
    "plt.legend(list_legend)\n",
    "plt.ylabel('Probability of Accepting The Lot, Pa')\n",
    "plt.xlabel('Lot Defect Rate, Pd')\n",
    "plt.title('binom scipy CDF')\n"
   ]
  },
  {
   "cell_type": "code",
   "execution_count": 44,
   "metadata": {},
   "outputs": [
    {
     "name": "stdout",
     "output_type": "stream",
     "text": [
      "P on p=0.065: 0.9573\n",
      "P on p=0.065: 0.9037\n",
      "P on p=0.065: 0.9459\n",
      "P on p=0.065: 0.9569\n",
      "P on p=0.065: 0.2725\n"
     ]
    },
    {
     "data": {
      "text/plain": [
       "Text(0.5, 1.0, 'poisson scipy CDF')"
      ]
     },
     "execution_count": 44,
     "metadata": {},
     "output_type": "execute_result"
    },
    {
     "data": {
      "image/png": "[encoded data removed]",
      "text/plain": [
       "<Figure size 432x288 with 1 Axes>"
      ]
     },
     "metadata": {
      "needs_background": "dark"
     },
     "output_type": "display_data"
    }
   ],
   "source": [
    "# n = jumlah sample dari lot\n",
    "# k = jumlah defects bisa diterima\n",
    "\n",
    "# POISSON\n",
    "\n",
    "list_sampling_plan = [[5,1], [8,1], [13,2], [20,3], [20,0]] # [n,k]\n",
    "\n",
    "list_collection = []\n",
    "list_legend = []\n",
    "dict_result = {}\n",
    "# color = iter(cm.rainbow(np.linspace(0, 1, n)))\n",
    "color_list = ['r', 'g', 'b', 'y', 'grey']\n",
    "color_iter = iter(color_list)\n",
    "\n",
    "for i in list_sampling_plan:\n",
    "    for p_ in range(1000):\n",
    "        p = p_/1000\n",
    "        lambda_ = i[0]*p\n",
    "        dict_result[p] = round(poisson.cdf(i[1], lambda_),4) # poisson.cdf(k, lambda_)\n",
    "\n",
    "    key_max = max(dict_result, key=dict_result.get)\n",
    "    value_max = max(dict_result.values())\n",
    "    # print('BINOMIAL')\n",
    "    # print(\"n:\", n)\n",
    "    # print(\"k:\", k)\n",
    "    # print(\"Maximum value on\",key_max, \":\", value_max)\n",
    "    print(\"P on p=0.065:\", round(dict_result[0.065],4))\n",
    "    col = next(color_iter)\n",
    "    plt.plot(dict_result.keys(), dict_result.values(), color=col, label = k)\n",
    "    list_legend.append('n={}, k={}'.format(i[0], i[1]))\n",
    "\n",
    "line_x = [0.065, 0.065]\n",
    "line_y = [0.0, 1.0]\n",
    "\n",
    "# plt.plot(line_x, line_y, '--', color='grey', linewidth=1)    \n",
    "plt.legend(list_legend)\n",
    "plt.ylabel('Probability of Accepting The Lot, Pa')\n",
    "plt.xlabel('Lot Defect Rate, Pd')\n",
    "plt.title('poisson scipy CDF')\n"
   ]
  },
  {
   "cell_type": "code",
   "execution_count": 45,
   "metadata": {},
   "outputs": [
    {
     "data": {
      "text/plain": [
       "Text(0.5, 1.0, 'hypergeom scipy CDF')"
      ]
     },
     "execution_count": 45,
     "metadata": {},
     "output_type": "execute_result"
    },
    {
     "data": {
      "image/png": "[encoded data removed]",
      "text/plain": [
       "<Figure size 432x288 with 1 Axes>"
      ]
     },
     "metadata": {
      "needs_background": "dark"
     },
     "output_type": "display_data"
    }
   ],
   "source": [
    "# N = jumlah populasi\n",
    "# n = jumlah sample dari lot\n",
    "# k = jumlah defects bisa diterima\n",
    "\n",
    "# HYPERGEOM\n",
    "\n",
    "list_sampling_plan = [[16,5,1], [26,8,1], [51,13,2], [91,20,3], [150,20,3]] # [N, n, k]\n",
    "\n",
    "list_collection = []\n",
    "list_legend = []\n",
    "# dict_result = {}\n",
    "# color = iter(cm.rainbow(np.linspace(0, 1, n)))\n",
    "color_list = ['r', 'g', 'b', 'y', 'grey']\n",
    "color_iter = iter(color_list)\n",
    "\n",
    "for i in list_sampling_plan:\n",
    "    dict_result = {}\n",
    "    N = i[0]\n",
    "    for K_ in range(N):\n",
    "        K = K_\n",
    "        dict_result[K/N] = round(hypergeom.cdf(i[2], N, K, i[1]),4) # hypergeom.cdf(k, N, K, n)\n",
    "\n",
    "    key_max = max(dict_result, key=dict_result.get)\n",
    "    value_max = max(dict_result.values())\n",
    "    # print('BINOMIAL')\n",
    "    # print(\"n:\", n)\n",
    "    # print(\"k:\", k)\n",
    "    # print(\"Maximum value on\",key_max, \":\", value_max)\n",
    "    # print(\"K on K=0.065:\", round(dict_result[0.065],4))\n",
    "    col = next(color_iter)\n",
    "    plt.plot(dict_result.keys(), dict_result.values(), color=col, label = k)\n",
    "    list_legend.append('N={}, n={}, k={}'.format(i[0], i[1], i[2]))\n",
    "\n",
    "# line_x = [0.065, 0.065]\n",
    "# line_y = [0.0, 1.0]\n",
    "\n",
    "# plt.plot(line_x, line_y, '--', color='grey', linewidth=1)    \n",
    "plt.legend(list_legend)\n",
    "plt.ylabel('Probability of Accepting The Lot, Pa')\n",
    "plt.xlabel('Lot Defect Rate, Pd (K/N)')\n",
    "plt.title('hypergeom scipy CDF')"
   ]
  },
  {
   "attachments": {},
   "cell_type": "markdown",
   "metadata": {},
   "source": [
    "# Hypergeometric Distribution"
   ]
  },
  {
   "cell_type": "code",
   "execution_count": 46,
   "metadata": {},
   "outputs": [],
   "source": [
    "# deterministic hypergeometric PMF\n",
    "# https://en.wikipedia.org/wiki/Hypergeometric_distribution\n",
    "\n",
    "class Hypergeo:\n",
    "    def __init__(self, N, K, n, k=0):\n",
    "        self.N = N\n",
    "        self.K = K\n",
    "        self.n = n\n",
    "        self.k = k\n",
    "    \n",
    "    def binom_coef(self, a_, b_):\n",
    "        return (math.factorial(a_)/\n",
    "            (math.factorial(b_)*math.factorial(a_-b_)))\n",
    "\n",
    "    def hypergeo_p_hc(self):\n",
    "        self.P_hc = self.binom_coef(self.K, self.k) * self.binom_coef(self.N-self.K, self.n-self.k)/self.binom_coef(self.N, self.n)\n",
    "        return self.P_hc\n",
    "\n",
    "    def hypergeo_p_sp(self):\n",
    "        # self.P_sp = hypergeom.pmf(self.k, self.M, self.n, self.N)\n",
    "        self.P_sp = hypergeom.pmf(self.k, self.N, self.K, self.n)\n",
    "        return self.P_sp\n",
    "\n",
    "    def hypergeo_cdf_sp(self):\n",
    "        self.C_sp = hypergeom.cdf(self.k, self.N, self.K, self.n)\n",
    "        return self.C_sp"
   ]
  },
  {
   "attachments": {},
   "cell_type": "markdown",
   "metadata": {},
   "source": [
    "### Hypergeometric Probability Mass Function\n",
    "#### Hand Calculation"
   ]
  },
  {
   "cell_type": "code",
   "execution_count": 47,
   "metadata": {},
   "outputs": [
    {
     "name": "stdout",
     "output_type": "stream",
     "text": [
      "{0: 0.2215, 1: 0.4114, 2: 0.2743, 3: 0.0815, 4: 0.0107, 5: 0.0005}\n",
      "Maximum value on 1 : 0.4114\n"
     ]
    },
    {
     "data": {
      "text/plain": [
       "Text(0.5, 1.0, 'Hypergeometric PMF Hand Calc., N=52, K=5, n=5')"
      ]
     },
     "execution_count": 47,
     "metadata": {},
     "output_type": "execute_result"
    },
    {
     "data": {
      "image/png": "[encoded data removed]",
      "text/plain": [
       "<Figure size 432x288 with 1 Axes>"
      ]
     },
     "metadata": {
      "needs_background": "dark"
     },
     "output_type": "display_data"
    }
   ],
   "source": [
    "# The probability of getting 3 spades in a 5 card hand in poker\n",
    "N = 52 # number of population\n",
    "K = 13 # number of success states in the population\n",
    "n = 5 # number of draws (i.e. quantity drawn in each trial)\n",
    "# k = number of observed successes\n",
    "dict_result = {}\n",
    "\n",
    "for k in range(n+1):\n",
    "    hypergeo_card_3_5 = Hypergeo(N, K, n, k)\n",
    "    dict_result[k] = round(hypergeo_card_3_5.hypergeo_p_hc(), 4)\n",
    "print(dict_result)\n",
    "\n",
    "key_max = max(dict_result, key=dict_result.get)\n",
    "value_max = max(dict_result.values())\n",
    "print(\"Maximum value on\",key_max, \":\", value_max)\n",
    "f_plot_bar(dict_result, 0.5, 'm')\n",
    "\n",
    "plt.ylabel('P')\n",
    "plt.xlabel('k')\n",
    "plt.title('Hypergeometric PMF Hand Calc., N={}, K={}, n={}'.format(N, k, n))"
   ]
  },
  {
   "attachments": {},
   "cell_type": "markdown",
   "metadata": {},
   "source": [
    "#### Scipy Function"
   ]
  },
  {
   "cell_type": "code",
   "execution_count": 48,
   "metadata": {},
   "outputs": [
    {
     "name": "stdout",
     "output_type": "stream",
     "text": [
      "{0: 0.2215, 1: 0.4114, 2: 0.2743, 3: 0.0815, 4: 0.0107, 5: 0.0005}\n",
      "Maximum value on 1 : 0.4114\n"
     ]
    },
    {
     "data": {
      "text/plain": [
       "Text(0.5, 1.0, 'Hypergeometric PMF Scipy, N=52, K=5, n=5')"
      ]
     },
     "execution_count": 48,
     "metadata": {},
     "output_type": "execute_result"
    },
    {
     "data": {
      "image/png": "[encoded data removed]",
      "text/plain": [
       "<Figure size 432x288 with 1 Axes>"
      ]
     },
     "metadata": {
      "needs_background": "dark"
     },
     "output_type": "display_data"
    }
   ],
   "source": [
    "# The probability of getting 3 spades in a 5 card hand in poker\n",
    "N = 52 # number of population\n",
    "K = 13 # number of success states in the population\n",
    "n = 5 # number of draws (i.e. quantity drawn in each trial)\n",
    "# k = number of observed successes\n",
    "dict_result = {}\n",
    "\n",
    "for k in range(n+1):\n",
    "    hypergeo_card_3_5 = Hypergeo(N, K, n, k)\n",
    "    dict_result[k] = round(hypergeo_card_3_5.hypergeo_p_sp(), 4)\n",
    "print(dict_result)\n",
    "\n",
    "key_max = max(dict_result, key=dict_result.get)\n",
    "value_max = max(dict_result.values())\n",
    "print(\"Maximum value on\",key_max, \":\", value_max)\n",
    "f_plot_bar(dict_result, 0.5, 'm')\n",
    "\n",
    "plt.ylabel('P')\n",
    "plt.xlabel('k')\n",
    "plt.title('Hypergeometric PMF Scipy, N={}, K={}, n={}'.format(N, k, n))"
   ]
  },
  {
   "cell_type": "code",
   "execution_count": 49,
   "metadata": {},
   "outputs": [
    {
     "name": "stdout",
     "output_type": "stream",
     "text": [
      "{0: 0.2221, 1: 0.4068, 2: 0.2781, 3: 0.082, 4: 0.0106, 5: 0.0004}\n",
      "Maximum value on 1 : 0.4068\n"
     ]
    },
    {
     "data": {
      "text/plain": [
       "Text(0.5, 1.0, 'Stochastic Getting k Spades on 5 Hand Cards')"
      ]
     },
     "execution_count": 49,
     "metadata": {},
     "output_type": "execute_result"
    },
    {
     "data": {
      "image/png": "[encoded data removed]",
      "text/plain": [
       "<Figure size 432x288 with 1 Axes>"
      ]
     },
     "metadata": {
      "needs_background": "dark"
     },
     "output_type": "display_data"
    }
   ],
   "source": [
    "# Stochastic\n",
    "\n",
    "card_pattern = ['club', 'diamond', 'heart', 'spade']\n",
    "card_value = ['2', '3', '4', '5', '6', '7', '8', '9', '10', 'J', 'Q', 'K', 'A']\n",
    "iteration_count = 100_000\n",
    "list_result_spades = []\n",
    "\n",
    "card_draw = 5\n",
    "\n",
    "for i in range(iteration_count):\n",
    "    draw_five_cards = set()\n",
    "\n",
    "    while len(draw_five_cards) < card_draw:\n",
    "        rand_pattern = random.randrange(4)\n",
    "        rand_value = random.randrange(13)\n",
    "        draw_five_cards.add(card_pattern[rand_pattern]+'_'+card_value[rand_value])\n",
    "    spades_count = sum('spade' in s for s in draw_five_cards)\n",
    "    list_result_spades.append(spades_count)\n",
    "\n",
    "set_result_spades = {i for i in range(card_draw+1)}\n",
    "dict_result_spades = {}\n",
    "for i in set_result_spades:\n",
    "    dict_result_spades[i] = round(list_result_spades.count(i)/iteration_count,4)\n",
    "print(dict_result_spades)\n",
    "\n",
    "key_max = max(dict_result_spades, key=dict_result_spades.get)\n",
    "value_max = max(dict_result_spades.values())\n",
    "print(\"Maximum value on\",key_max, \":\", value_max)\n",
    "# print(\"Pr on 1:\", dict_result_head[1])\n",
    "\n",
    "# f_plot_bar(dict_result, 0.1, 'g')\n",
    "f_plot_bar(dict_result_spades, 0.5, 'm')\n",
    "plt.ylabel('P')\n",
    "plt.xlabel('k')\n",
    "plt.title('Stochastic Getting k Spades on 5 Hand Cards')"
   ]
  },
  {
   "attachments": {},
   "cell_type": "markdown",
   "metadata": {},
   "source": [
    "#### Peluang 3 spades in a n card hand"
   ]
  },
  {
   "cell_type": "code",
   "execution_count": 50,
   "metadata": {},
   "outputs": [
    {
     "name": "stdout",
     "output_type": "stream",
     "text": [
      "{0: 1.0, 1: 1.0, 2: 1.0, 3: 1.0, 4: 0.9974, 5: 0.9888, 6: 0.9714, 7: 0.9435, 8: 0.9044, 9: 0.8547, 10: 0.7957, 11: 0.7295, 12: 0.6585, 13: 0.5851, 14: 0.5116, 15: 0.4403, 16: 0.3729, 17: 0.3106, 18: 0.2544, 19: 0.2049}\n",
      "Maximum value on 0 : 1.0\n"
     ]
    },
    {
     "data": {
      "text/plain": [
       "Text(0.5, 1.0, 'Hypergeometric CDF Scipy')"
      ]
     },
     "execution_count": 50,
     "metadata": {},
     "output_type": "execute_result"
    },
    {
     "data": {
      "image/png": "[encoded data removed]",
      "text/plain": [
       "<Figure size 432x288 with 1 Axes>"
      ]
     },
     "metadata": {
      "needs_background": "dark"
     },
     "output_type": "display_data"
    }
   ],
   "source": [
    "# deterministic + Cumulative\n",
    "\n",
    "# The probability of getting 3 spades in a 5 card hand in poker\n",
    "N = 52 # number of population (52 cards)\n",
    "K = 13 # number of success states in the population (13 spades)\n",
    "# n = number of draws (i.e. quantity drawn in each trial)\n",
    "k = 3 # number of observed successes (k spades)\n",
    "dict_result = {}\n",
    "C_ = 0\n",
    "\n",
    "for n in range(20):\n",
    "    hypergeo_card_3_n = Hypergeo(N, K, n, k)\n",
    "    C_ = hypergeo_card_3_n.hypergeo_cdf_sp()\n",
    "    dict_result[n] = round(C_, 4)\n",
    "print(dict_result)\n",
    "\n",
    "key_max = max(dict_result, key=dict_result.get)\n",
    "value_max = max(dict_result.values())\n",
    "print(\"Maximum value on\",key_max, \":\", value_max)\n",
    "f_plot_bar(dict_result, 0.75, 'm')\n",
    "\n",
    "plt.ylabel('P')\n",
    "plt.xlabel('n')\n",
    "plt.title('Hypergeometric CDF Scipy')"
   ]
  },
  {
   "attachments": {},
   "cell_type": "markdown",
   "metadata": {},
   "source": [
    "#### Peluang Accept Sample dari populasi N=37, jumlah sample n = 13, defect yg diizinkan k = 0, dan K variatif"
   ]
  },
  {
   "cell_type": "code",
   "execution_count": 51,
   "metadata": {},
   "outputs": [
    {
     "name": "stdout",
     "output_type": "stream",
     "text": [
      "{0: 1.0, 1: 0.6486, 2: 0.4144, 3: 0.2605, 4: 0.1609, 5: 0.0975, 6: 0.0579, 7: 0.0336, 8: 0.019, 9: 0.0105, 10: 0.0056, 11: 0.0029, 12: 0.0015, 13: 0.0007, 14: 0.0003, 15: 0.0001, 16: 0.0001, 17: 0.0, 18: 0.0, 19: 0.0, 20: 0.0, 21: 0.0, 22: 0.0, 23: 0.0, 24: 0.0, 25: 0.0, 26: 0.0, 27: 0.0, 28: 0.0, 29: 0.0, 30: 0.0, 31: 0.0, 32: 0.0, 33: 0.0, 34: 0.0, 35: 0.0, 36: 0.0}\n",
      "Maximum value on 0 : 1.0\n"
     ]
    },
    {
     "data": {
      "text/plain": [
       "Text(0.5, 1.0, 'Hypergeometric CDF Scipy')"
      ]
     },
     "execution_count": 51,
     "metadata": {},
     "output_type": "execute_result"
    },
    {
     "data": {
      "image/png": "[encoded data removed]",
      "text/plain": [
       "<Figure size 432x288 with 1 Axes>"
      ]
     },
     "metadata": {
      "needs_background": "dark"
     },
     "output_type": "display_data"
    }
   ],
   "source": [
    "# Peluang Accept Sample dari populasi N=37, jumlah sample n = 13, \n",
    "# defect yg diizinkan k = 0, dan K variatif\n",
    "N = 37 # number of population (37 tiang)\n",
    "# K = variable # jumlah K defect dari N jumlah total tiang\n",
    "n = 13 # jumlah sample (13 tiang)\n",
    "k = 0 # jumlah sample defect\n",
    "dict_result = {}\n",
    "C_ = 0\n",
    "\n",
    "for K in range(N):\n",
    "    hypergeo_tiang_N_n = Hypergeo(N, K, n, k)\n",
    "    C_ = hypergeo_tiang_N_n.hypergeo_cdf_sp()\n",
    "    dict_result[K] = round(C_, 4)\n",
    "    # print(k/K)\n",
    "print(dict_result)\n",
    "\n",
    "key_max = max(dict_result, key=dict_result.get)\n",
    "value_max = max(dict_result.values())\n",
    "print(\"Maximum value on\",key_max, \":\", value_max)\n",
    "f_plot_bar(dict_result, 0.75, 'm')\n",
    "\n",
    "plt.ylabel('P')\n",
    "plt.xlabel('K')\n",
    "plt.title('Hypergeometric CDF Scipy')"
   ]
  },
  {
   "cell_type": "code",
   "execution_count": 52,
   "metadata": {},
   "outputs": [
    {
     "name": "stdout",
     "output_type": "stream",
     "text": [
      "{0: 1.0, 1: 0.6486, 2: 0.4144, 3: 0.2605, 4: 0.1609, 5: 0.0975, 6: 0.0579, 7: 0.0336, 8: 0.019, 9: 0.0105, 10: 0.0056, 11: 0.0029, 12: 0.0015, 13: 0.0007, 14: 0.0003, 15: 0.0001, 16: 0.0001, 17: 0.0, 18: 0.0, 19: 0.0, 20: 0.0, 21: 0.0, 22: 0.0, 23: 0.0, 24: 0.0, 25: 0.0, 26: 0.0, 27: 0.0, 28: 0.0, 29: 0.0, 30: 0.0, 31: 0.0, 32: 0.0, 33: 0.0, 34: 0.0, 35: 0.0, 36: 0.0}\n",
      "Maximum value on 0 : 1.0\n"
     ]
    },
    {
     "data": {
      "text/plain": [
       "Text(0.5, 1.0, 'Hypergeometric PMF Scipy, N=37, k=0, n=13')"
      ]
     },
     "execution_count": 52,
     "metadata": {},
     "output_type": "execute_result"
    },
    {
     "data": {
      "image/png": "[encoded data removed]",
      "text/plain": [
       "<Figure size 432x288 with 1 Axes>"
      ]
     },
     "metadata": {
      "needs_background": "dark"
     },
     "output_type": "display_data"
    }
   ],
   "source": [
    "# Peluang Accept Sample dari populasi N=37, jumlah sample n = 13, \n",
    "# defect yg diizinkan k = 0, dan K variatif\n",
    "N = 37 # number of population (37 tiang)\n",
    "# K = variable # jumlah K defect dari N jumlah total tiang\n",
    "n = 13 # jumlah sample (13 tiang)\n",
    "k = 0 # jumlah sample defect\n",
    "dict_result = {}\n",
    "C_ = 0\n",
    "\n",
    "for K in range(N):\n",
    "    hypergeo_tiang_N_n = Hypergeo(N, K, n, k)\n",
    "    dict_result[K] = round(hypergeo_tiang_N_n.hypergeo_p_sp(), 4)\n",
    "print(dict_result)\n",
    "\n",
    "key_max = max(dict_result, key=dict_result.get)\n",
    "value_max = max(dict_result.values())\n",
    "print(\"Maximum value on\",key_max, \":\", value_max)\n",
    "f_plot_bar(dict_result, 0.5, 'm')\n",
    "\n",
    "plt.ylabel('P')\n",
    "plt.xlabel('K')\n",
    "plt.title('Hypergeometric PMF Scipy, N={}, k={}, n={}'.format(N, k, n))"
   ]
  },
  {
   "cell_type": "code",
   "execution_count": 53,
   "metadata": {},
   "outputs": [
    {
     "data": {
      "text/plain": [
       "Text(0.5, 1.0, 'hypergeom scipy CDF')"
      ]
     },
     "execution_count": 53,
     "metadata": {},
     "output_type": "execute_result"
    },
    {
     "data": {
      "image/png": "[encoded data removed]",
      "text/plain": [
       "<Figure size 432x288 with 1 Axes>"
      ]
     },
     "metadata": {
      "needs_background": "dark"
     },
     "output_type": "display_data"
    }
   ],
   "source": [
    "# N = jumlah populasi\n",
    "# n = jumlah sample dari lot\n",
    "# k = jumlah defects bisa diterima\n",
    "\n",
    "# HYPERGEOM\n",
    "\n",
    "list_sampling_plan = [[37,13,0]] # [N, n, k]\n",
    "\n",
    "list_collection = []\n",
    "list_legend = []\n",
    "# dict_result = {}\n",
    "# color = iter(cm.rainbow(np.linspace(0, 1, n)))\n",
    "# color_list = ['r', 'g', 'b', 'y', 'grey']\n",
    "color_list = ['grey']\n",
    "color_iter = iter(color_list)\n",
    "\n",
    "for i in list_sampling_plan:\n",
    "    dict_result = {}\n",
    "    N = i[0]\n",
    "    for K_ in range(N):\n",
    "        K = K_\n",
    "        dict_result[K/N] = round(hypergeom.cdf(i[2], N, K, i[1]),4) # hypergeom.cdf(k, N, K, n)\n",
    "    key_max = max(dict_result, key=dict_result.get)\n",
    "    value_max = max(dict_result.values())\n",
    "    # print('BINOMIAL')\n",
    "    # print(\"n:\", n)\n",
    "    # print(\"k:\", k)\n",
    "    # print(\"Maximum value on\",key_max, \":\", value_max)\n",
    "   \n",
    "    col = next(color_iter)\n",
    "    plt.plot(dict_result.keys(), dict_result.values(), color=col, label = k)\n",
    "    list_legend.append('N={}, n={}, k={}'.format(i[0], i[1], i[2]))\n",
    "\n",
    "# line_x = [0.065, 0.065]\n",
    "# line_y = [0.0, 1.0]\n",
    "\n",
    "# plt.plot(line_x, line_y, '--', color='grey', linewidth=1)    \n",
    "plt.legend(list_legend)\n",
    "plt.ylabel('Probability of Accepting The Lot, Pa')\n",
    "plt.xlabel('Lot Defect Rate, Pd')\n",
    "plt.title('hypergeom scipy CDF')"
   ]
  },
  {
   "attachments": {},
   "cell_type": "markdown",
   "metadata": {},
   "source": [
    "# Producer's & Consumer's Risk"
   ]
  }
 ],
 "metadata": {
  "kernelspec": {
   "display_name": "Python 3.10.4 64-bit",
   "language": "python",
   "name": "python3"
  },
  "language_info": {
   "codemirror_mode": {
    "name": "ipython",
    "version": 3
   },
   "file_extension": ".py",
   "mimetype": "text/x-python",
   "name": "python",
   "nbconvert_exporter": "python",
   "pygments_lexer": "ipython3",
   "version": "3.10.4"
  },
  "orig_nbformat": 4,
  "vscode": {
   "interpreter": {
    "hash": "de93ffed9bd24b7d9f645a83e8d3156599714ee4bf33b5548e4972a381fe44e5"
   }
  }
 },
 "nbformat": 4,
 "nbformat_minor": 2
}
